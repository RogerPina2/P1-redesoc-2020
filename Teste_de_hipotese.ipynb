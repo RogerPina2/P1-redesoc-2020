{
 "cells": [
  {
   "cell_type": "code",
   "execution_count": 135,
   "metadata": {},
   "outputs": [],
   "source": [
    "from csv import reader\n",
    "import numpy as np\n",
    "from unidecode import unidecode\n",
    "import pandas as pd\n",
    "import statsmodels.api as sm\n"
   ]
  },
  {
   "cell_type": "markdown",
   "metadata": {},
   "source": [
    "#### Nesse teste de hipótese estariamos avaliando qual a influência das mulheres nas votações, será que os homens possuem além de maior representativade maior facilidade para aprovação de propostas?"
   ]
  },
  {
   "cell_type": "code",
   "execution_count": 137,
   "metadata": {},
   "outputs": [],
   "source": [
    "deputados = pd.read_csv('ArquivosLimpos/deputados-2015-2018.csv').dropna()"
   ]
  },
  {
   "cell_type": "code",
   "execution_count": 138,
   "metadata": {},
   "outputs": [
    {
     "output_type": "execute_result",
     "data": {
      "text/plain": [
       "deputado_id                 int64\n",
       "nome                       object\n",
       "idLegislaturaInicial        int64\n",
       "idLegislaturaFinal          int64\n",
       "siglaSexo                  object\n",
       "betweenness_centrality    float64\n",
       "eigenvecto_centrality     float64\n",
       "Frentes                     int64\n",
       "dtype: object"
      ]
     },
     "metadata": {},
     "execution_count": 138
    }
   ],
   "source": [
    "deputados.dtypes"
   ]
  },
  {
   "cell_type": "code",
   "execution_count": 139,
   "metadata": {},
   "outputs": [],
   "source": [
    "values = deputados['siglaSexo'].unique()\n",
    "\n",
    "for value in values[:-1]:\n",
    "    deputados[value] = [1 if v == value else 0 for v in deputados['siglaSexo']]"
   ]
  },
  {
   "cell_type": "code",
   "execution_count": 140,
   "metadata": {},
   "outputs": [],
   "source": [
    "deputados"
   ]
  },
  {
   "cell_type": "markdown",
   "metadata": {},
   "source": [
    "#### Influênca sexo na influência de um deputado"
   ]
  },
  {
   "cell_type": "code",
   "execution_count": 155,
   "metadata": {},
   "outputs": [
    {
     "output_type": "stream",
     "name": "stdout",
     "text": [
      "Optimization terminated successfully.\n         Current function value: 0.609767\n         Iterations 9\n"
     ]
    },
    {
     "output_type": "execute_result",
     "data": {
      "text/plain": [
       "<class 'statsmodels.iolib.summary.Summary'>\n",
       "\"\"\"\n",
       "                             Logit Regression Results                            \n",
       "=================================================================================\n",
       "Dep. Variable:     eigenvecto_centrality   No. Observations:                  272\n",
       "Model:                             Logit   Df Residuals:                      271\n",
       "Method:                              MLE   Df Model:                            0\n",
       "Date:                   Fri, 13 Nov 2020   Pseudo R-squ.:                     inf\n",
       "Time:                           21:33:32   Log-Likelihood:                -165.86\n",
       "converged:                          True   LL-Null:                        0.0000\n",
       "Covariance Type:               nonrobust   LLR p-value:                       nan\n",
       "==============================================================================\n",
       "                 coef    std err          z      P>|z|      [0.025      0.975]\n",
       "------------------------------------------------------------------------------\n",
       "F             -5.2196      2.380     -2.193      0.028      -9.883      -0.556\n",
       "==============================================================================\n",
       "\"\"\""
      ],
      "text/html": "<table class=\"simpletable\">\n<caption>Logit Regression Results</caption>\n<tr>\n  <th>Dep. Variable:</th>   <td>eigenvecto_centrality</td> <th>  No. Observations:  </th>  <td>   272</td> \n</tr>\n<tr>\n  <th>Model:</th>                   <td>Logit</td>         <th>  Df Residuals:      </th>  <td>   271</td> \n</tr>\n<tr>\n  <th>Method:</th>                   <td>MLE</td>          <th>  Df Model:          </th>  <td>     0</td> \n</tr>\n<tr>\n  <th>Date:</th>              <td>Fri, 13 Nov 2020</td>    <th>  Pseudo R-squ.:     </th>  <td>   inf</td> \n</tr>\n<tr>\n  <th>Time:</th>                  <td>21:33:32</td>        <th>  Log-Likelihood:    </th> <td> -165.86</td>\n</tr>\n<tr>\n  <th>converged:</th>               <td>True</td>          <th>  LL-Null:           </th> <td>  0.0000</td>\n</tr>\n<tr>\n  <th>Covariance Type:</th>       <td>nonrobust</td>       <th>  LLR p-value:       </th>  <td>   nan</td> \n</tr>\n</table>\n<table class=\"simpletable\">\n<tr>\n  <td></td>     <th>coef</th>     <th>std err</th>      <th>z</th>      <th>P>|z|</th>  <th>[0.025</th>    <th>0.975]</th>  \n</tr>\n<tr>\n  <th>F</th> <td>   -5.2196</td> <td>    2.380</td> <td>   -2.193</td> <td> 0.028</td> <td>   -9.883</td> <td>   -0.556</td>\n</tr>\n</table>"
     },
     "metadata": {},
     "execution_count": 155
    }
   ],
   "source": [
    "model = sm.Logit(deputados['eigenvecto_centrality'], deputados[values[:-1]])\n",
    "result = model.fit()\n",
    "result.summary()"
   ]
  },
  {
   "cell_type": "markdown",
   "metadata": {},
   "source": [
    "#### Influência eficiência na inflência de um deputado"
   ]
  },
  {
   "cell_type": "code",
   "execution_count": 154,
   "metadata": {},
   "outputs": [
    {
     "output_type": "execute_result",
     "data": {
      "text/plain": [
       "<class 'statsmodels.iolib.summary.Summary'>\n",
       "\"\"\"\n",
       "                                  OLS Regression Results                                  \n",
       "==========================================================================================\n",
       "Dep. Variable:     eigenvecto_centrality   R-squared (uncentered):                   0.017\n",
       "Model:                               OLS   Adj. R-squared (uncentered):              0.010\n",
       "Method:                    Least Squares   F-statistic:                              2.325\n",
       "Date:                   Fri, 13 Nov 2020   Prob (F-statistic):                      0.0997\n",
       "Time:                           21:33:00   Log-Likelihood:                          484.79\n",
       "No. Observations:                    272   AIC:                                     -965.6\n",
       "Df Residuals:                        270   BIC:                                     -958.4\n",
       "Df Model:                              2                                                  \n",
       "Covariance Type:               nonrobust                                                  \n",
       "==============================================================================\n",
       "                 coef    std err          t      P>|t|      [0.025      0.975]\n",
       "------------------------------------------------------------------------------\n",
       "Frentes     3.399e-05   1.68e-05      2.019      0.044    8.52e-07    6.71e-05\n",
       "siglaSexo      0.0024      0.007      0.334      0.739      -0.012       0.017\n",
       "==============================================================================\n",
       "Omnibus:                      357.455   Durbin-Watson:                   1.993\n",
       "Prob(Omnibus):                  0.000   Jarque-Bera (JB):            23187.803\n",
       "Skew:                           6.140   Prob(JB):                         0.00\n",
       "Kurtosis:                      46.533   Cond. No.                         441.\n",
       "==============================================================================\n",
       "\n",
       "Warnings:\n",
       "[1] Standard Errors assume that the covariance matrix of the errors is correctly specified.\n",
       "\"\"\""
      ],
      "text/html": "<table class=\"simpletable\">\n<caption>OLS Regression Results</caption>\n<tr>\n  <th>Dep. Variable:</th>    <td>eigenvecto_centrality</td> <th>  R-squared (uncentered):</th>      <td>   0.017</td>\n</tr>\n<tr>\n  <th>Model:</th>                     <td>OLS</td>          <th>  Adj. R-squared (uncentered):</th> <td>   0.010</td>\n</tr>\n<tr>\n  <th>Method:</th>               <td>Least Squares</td>     <th>  F-statistic:       </th>          <td>   2.325</td>\n</tr>\n<tr>\n  <th>Date:</th>               <td>Fri, 13 Nov 2020</td>    <th>  Prob (F-statistic):</th>           <td>0.0997</td> \n</tr>\n<tr>\n  <th>Time:</th>                   <td>21:33:00</td>        <th>  Log-Likelihood:    </th>          <td>  484.79</td>\n</tr>\n<tr>\n  <th>No. Observations:</th>        <td>   272</td>         <th>  AIC:               </th>          <td>  -965.6</td>\n</tr>\n<tr>\n  <th>Df Residuals:</th>            <td>   270</td>         <th>  BIC:               </th>          <td>  -958.4</td>\n</tr>\n<tr>\n  <th>Df Model:</th>                <td>     2</td>         <th>                     </th>              <td> </td>   \n</tr>\n<tr>\n  <th>Covariance Type:</th>        <td>nonrobust</td>       <th>                     </th>              <td> </td>   \n</tr>\n</table>\n<table class=\"simpletable\">\n<tr>\n      <td></td>         <th>coef</th>     <th>std err</th>      <th>t</th>      <th>P>|t|</th>  <th>[0.025</th>    <th>0.975]</th>  \n</tr>\n<tr>\n  <th>Frentes</th>   <td> 3.399e-05</td> <td> 1.68e-05</td> <td>    2.019</td> <td> 0.044</td> <td> 8.52e-07</td> <td> 6.71e-05</td>\n</tr>\n<tr>\n  <th>siglaSexo</th> <td>    0.0024</td> <td>    0.007</td> <td>    0.334</td> <td> 0.739</td> <td>   -0.012</td> <td>    0.017</td>\n</tr>\n</table>\n<table class=\"simpletable\">\n<tr>\n  <th>Omnibus:</th>       <td>357.455</td> <th>  Durbin-Watson:     </th> <td>   1.993</td> \n</tr>\n<tr>\n  <th>Prob(Omnibus):</th> <td> 0.000</td>  <th>  Jarque-Bera (JB):  </th> <td>23187.803</td>\n</tr>\n<tr>\n  <th>Skew:</th>          <td> 6.140</td>  <th>  Prob(JB):          </th> <td>    0.00</td> \n</tr>\n<tr>\n  <th>Kurtosis:</th>      <td>46.533</td>  <th>  Cond. No.          </th> <td>    441.</td> \n</tr>\n</table><br/><br/>Warnings:<br/>[1] Standard Errors assume that the covariance matrix of the errors is correctly specified."
     },
     "metadata": {},
     "execution_count": 154
    }
   ],
   "source": [
    "model = sm.OLS(deputados['eigenvecto_centrality'], deputados[['Frentes']])\n",
    "result = model.fit()\n",
    "result.summary()"
   ]
  },
  {
   "cell_type": "code",
   "execution_count": null,
   "metadata": {},
   "outputs": [],
   "source": []
  }
 ],
 "metadata": {
  "kernelspec": {
   "display_name": "Python 3",
   "language": "python",
   "name": "python3"
  },
  "language_info": {
   "codemirror_mode": {
    "name": "ipython",
    "version": 3
   },
   "file_extension": ".py",
   "mimetype": "text/x-python",
   "name": "python",
   "nbconvert_exporter": "python",
   "pygments_lexer": "ipython3",
   "version": "3.8.2-final"
  }
 },
 "nbformat": 4,
 "nbformat_minor": 2
}