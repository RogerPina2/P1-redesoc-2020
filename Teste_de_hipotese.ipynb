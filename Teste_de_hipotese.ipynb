{
 "cells": [
  {
   "cell_type": "code",
   "execution_count": 1,
   "metadata": {},
   "outputs": [],
   "source": [
    "from csv import reader\n",
    "import numpy as np\n",
    "from unidecode import unidecode\n",
    "import pandas as pd\n",
    "import statsmodels.api as sm\n"
   ]
  },
  {
   "cell_type": "markdown",
   "metadata": {},
   "source": [
    "#### Nesse teste de hipótese estariamos avaliando qual a influência das mulheres nas votações, será que os homens possuem além de maior representativade maior facilidade para aprovação de propostas?"
   ]
  },
  {
   "cell_type": "code",
   "execution_count": 4,
   "metadata": {},
   "outputs": [],
   "source": [
    "deputados = pd.read_csv('ArquivosLimpos/deputados-2015-2018.csv').dropna()"
   ]
  },
  {
   "cell_type": "code",
   "execution_count": 5,
   "metadata": {},
   "outputs": [
    {
     "output_type": "execute_result",
     "data": {
      "text/plain": [
       "deputado_id                 int64\n",
       "nome                       object\n",
       "idLegislaturaInicial        int64\n",
       "idLegislaturaFinal          int64\n",
       "siglaSexo                  object\n",
       "betweenness_centrality    float64\n",
       "eigenvecto_centrality     float64\n",
       "dtype: object"
      ]
     },
     "metadata": {},
     "execution_count": 5
    }
   ],
   "source": [
    "deputados.dtypes"
   ]
  },
  {
   "cell_type": "code",
   "execution_count": 7,
   "metadata": {},
   "outputs": [],
   "source": [
    "votacoes = pd.read_csv('ArquivosLimpos/votacoes-2015-2018.csv').dropna()"
   ]
  },
  {
   "cell_type": "code",
   "execution_count": 8,
   "metadata": {},
   "outputs": [
    {
     "output_type": "execute_result",
     "data": {
      "text/plain": [
       "id                                            object\n",
       "idOrgao                                        int64\n",
       "idEvento                                       int64\n",
       "aprovacao                                    float64\n",
       "votosSim                                       int64\n",
       "votosNao                                       int64\n",
       "votosOutros                                    int64\n",
       "ultimaApresentacaoProposicao_idProposicao      int64\n",
       "dtype: object"
      ]
     },
     "metadata": {},
     "execution_count": 8
    }
   ],
   "source": [
    "votacoes.dtypes"
   ]
  },
  {
   "cell_type": "code",
   "execution_count": 10,
   "metadata": {},
   "outputs": [],
   "source": [
    "votos = pd.read_csv('ArquivosLimpos/votacoesVotos-2015-2018.csv').dropna()"
   ]
  },
  {
   "cell_type": "code",
   "execution_count": 162,
   "metadata": {},
   "outputs": [
    {
     "data": {
      "text/plain": [
       "Unnamed: 0                int64\n",
       "idVotacao                object\n",
       "voto                      int64\n",
       "deputado_id               int64\n",
       "deputado_siglaPartido    object\n",
       "pardido_id                int64\n",
       "deputado_siglaUf         object\n",
       "dtype: object"
      ]
     },
     "execution_count": 162,
     "metadata": {},
     "output_type": "execute_result"
    }
   ],
   "source": [
    "votos.dtypes"
   ]
  },
  {
   "cell_type": "code",
   "execution_count": 11,
   "metadata": {},
   "outputs": [],
   "source": [
    "proposicoes = pd.read_csv('ArquivosLimpos/proposicoesAutores-2015-2018.csv').dropna()"
   ]
  },
  {
   "cell_type": "code",
   "execution_count": 12,
   "metadata": {},
   "outputs": [],
   "source": [
    "data_dep_prop = pd.merge(deputados, proposicoes, left_on='deputado_id', right_on='idDeputadoAutor')"
   ]
  },
  {
   "cell_type": "code",
   "execution_count": 13,
   "metadata": {},
   "outputs": [],
   "source": [
    "data_voto_vota = pd.merge(votacoes,votos, left_on='id', right_on='idVotacao')"
   ]
  },
  {
   "cell_type": "code",
   "execution_count": 14,
   "metadata": {},
   "outputs": [],
   "source": [
    " data= pd.merge(data_dep_prop,votacoes, left_on='idProposicao', right_on='ultimaApresentacaoProposicao_idProposicao')"
   ]
  },
  {
   "cell_type": "code",
   "execution_count": null,
   "metadata": {},
   "outputs": [],
   "source": []
  },
  {
   "cell_type": "code",
   "execution_count": 15,
   "metadata": {},
   "outputs": [
    {
     "output_type": "execute_result",
     "data": {
      "text/plain": [
       "   deputado_id        nome  idLegislaturaInicial  idLegislaturaFinal  \\\n",
       "0        66179  Norma Ayub                    55                  56   \n",
       "1        66179  Norma Ayub                    55                  56   \n",
       "2        66179  Norma Ayub                    55                  56   \n",
       "3        66179  Norma Ayub                    55                  56   \n",
       "4        66179  Norma Ayub                    55                  56   \n",
       "\n",
       "  siglaSexo  betweenness_centrality  eigenvecto_centrality  idProposicao  \\\n",
       "0         F                     0.0           3.907493e-11       2075791   \n",
       "1         F                     0.0           3.907493e-11       1594145   \n",
       "2         F                     0.0           3.907493e-11       1527018   \n",
       "3         F                     0.0           3.907493e-11       1278875   \n",
       "4         F                     0.0           3.907493e-11       1230242   \n",
       "\n",
       "   idDeputadoAutor  \n",
       "0          66179.0  \n",
       "1          66179.0  \n",
       "2          66179.0  \n",
       "3          66179.0  \n",
       "4          66179.0  "
      ],
      "text/html": "<div>\n<style scoped>\n    .dataframe tbody tr th:only-of-type {\n        vertical-align: middle;\n    }\n\n    .dataframe tbody tr th {\n        vertical-align: top;\n    }\n\n    .dataframe thead th {\n        text-align: right;\n    }\n</style>\n<table border=\"1\" class=\"dataframe\">\n  <thead>\n    <tr style=\"text-align: right;\">\n      <th></th>\n      <th>deputado_id</th>\n      <th>nome</th>\n      <th>idLegislaturaInicial</th>\n      <th>idLegislaturaFinal</th>\n      <th>siglaSexo</th>\n      <th>betweenness_centrality</th>\n      <th>eigenvecto_centrality</th>\n      <th>idProposicao</th>\n      <th>idDeputadoAutor</th>\n    </tr>\n  </thead>\n  <tbody>\n    <tr>\n      <th>0</th>\n      <td>66179</td>\n      <td>Norma Ayub</td>\n      <td>55</td>\n      <td>56</td>\n      <td>F</td>\n      <td>0.0</td>\n      <td>3.907493e-11</td>\n      <td>2075791</td>\n      <td>66179.0</td>\n    </tr>\n    <tr>\n      <th>1</th>\n      <td>66179</td>\n      <td>Norma Ayub</td>\n      <td>55</td>\n      <td>56</td>\n      <td>F</td>\n      <td>0.0</td>\n      <td>3.907493e-11</td>\n      <td>1594145</td>\n      <td>66179.0</td>\n    </tr>\n    <tr>\n      <th>2</th>\n      <td>66179</td>\n      <td>Norma Ayub</td>\n      <td>55</td>\n      <td>56</td>\n      <td>F</td>\n      <td>0.0</td>\n      <td>3.907493e-11</td>\n      <td>1527018</td>\n      <td>66179.0</td>\n    </tr>\n    <tr>\n      <th>3</th>\n      <td>66179</td>\n      <td>Norma Ayub</td>\n      <td>55</td>\n      <td>56</td>\n      <td>F</td>\n      <td>0.0</td>\n      <td>3.907493e-11</td>\n      <td>1278875</td>\n      <td>66179.0</td>\n    </tr>\n    <tr>\n      <th>4</th>\n      <td>66179</td>\n      <td>Norma Ayub</td>\n      <td>55</td>\n      <td>56</td>\n      <td>F</td>\n      <td>0.0</td>\n      <td>3.907493e-11</td>\n      <td>1230242</td>\n      <td>66179.0</td>\n    </tr>\n  </tbody>\n</table>\n</div>"
     },
     "metadata": {},
     "execution_count": 15
    }
   ],
   "source": [
    "data_dep_prop.head()\n"
   ]
  },
  {
   "cell_type": "code",
   "execution_count": 16,
   "metadata": {},
   "outputs": [
    {
     "output_type": "execute_result",
     "data": {
      "text/plain": [
       "   deputado_id           nome  idLegislaturaInicial  idLegislaturaFinal  \\\n",
       "0        66828  Fausto Pinato                    55                  56   \n",
       "1        66828  Fausto Pinato                    55                  56   \n",
       "2        66828  Fausto Pinato                    55                  56   \n",
       "3        66828  Fausto Pinato                    55                  56   \n",
       "4        66828  Fausto Pinato                    55                  56   \n",
       "\n",
       "  siglaSexo  betweenness_centrality  eigenvecto_centrality  idProposicao  \\\n",
       "0         M                     0.0           3.907493e-11       2056626   \n",
       "1         M                     0.0           3.907493e-11       2056626   \n",
       "2         M                     0.0           3.907493e-11       1738718   \n",
       "3         M                     0.0           3.907493e-11       1738718   \n",
       "4         M                     0.0           3.907493e-11       1514542   \n",
       "\n",
       "   idDeputadoAutor          id  idOrgao  idEvento  aprovacao  votosSim  \\\n",
       "0          66828.0  521407-108     2003     46088        0.0         0   \n",
       "1          66828.0  521407-123     2003     46230        1.0         0   \n",
       "2          66828.0  402642-124     2003     41191        1.0         0   \n",
       "3          66828.0  402642-144     2003     42072        1.0         0   \n",
       "4          66828.0  431099-141     2003     40265        1.0         0   \n",
       "\n",
       "   votosNao  votosOutros  ultimaApresentacaoProposicao_idProposicao  \n",
       "0         0            0                                    2056626  \n",
       "1         0            0                                    2056626  \n",
       "2         1            0                                    1738718  \n",
       "3         0            0                                    1738718  \n",
       "4         0            0                                    1514542  "
      ],
      "text/html": "<div>\n<style scoped>\n    .dataframe tbody tr th:only-of-type {\n        vertical-align: middle;\n    }\n\n    .dataframe tbody tr th {\n        vertical-align: top;\n    }\n\n    .dataframe thead th {\n        text-align: right;\n    }\n</style>\n<table border=\"1\" class=\"dataframe\">\n  <thead>\n    <tr style=\"text-align: right;\">\n      <th></th>\n      <th>deputado_id</th>\n      <th>nome</th>\n      <th>idLegislaturaInicial</th>\n      <th>idLegislaturaFinal</th>\n      <th>siglaSexo</th>\n      <th>betweenness_centrality</th>\n      <th>eigenvecto_centrality</th>\n      <th>idProposicao</th>\n      <th>idDeputadoAutor</th>\n      <th>id</th>\n      <th>idOrgao</th>\n      <th>idEvento</th>\n      <th>aprovacao</th>\n      <th>votosSim</th>\n      <th>votosNao</th>\n      <th>votosOutros</th>\n      <th>ultimaApresentacaoProposicao_idProposicao</th>\n    </tr>\n  </thead>\n  <tbody>\n    <tr>\n      <th>0</th>\n      <td>66828</td>\n      <td>Fausto Pinato</td>\n      <td>55</td>\n      <td>56</td>\n      <td>M</td>\n      <td>0.0</td>\n      <td>3.907493e-11</td>\n      <td>2056626</td>\n      <td>66828.0</td>\n      <td>521407-108</td>\n      <td>2003</td>\n      <td>46088</td>\n      <td>0.0</td>\n      <td>0</td>\n      <td>0</td>\n      <td>0</td>\n      <td>2056626</td>\n    </tr>\n    <tr>\n      <th>1</th>\n      <td>66828</td>\n      <td>Fausto Pinato</td>\n      <td>55</td>\n      <td>56</td>\n      <td>M</td>\n      <td>0.0</td>\n      <td>3.907493e-11</td>\n      <td>2056626</td>\n      <td>66828.0</td>\n      <td>521407-123</td>\n      <td>2003</td>\n      <td>46230</td>\n      <td>1.0</td>\n      <td>0</td>\n      <td>0</td>\n      <td>0</td>\n      <td>2056626</td>\n    </tr>\n    <tr>\n      <th>2</th>\n      <td>66828</td>\n      <td>Fausto Pinato</td>\n      <td>55</td>\n      <td>56</td>\n      <td>M</td>\n      <td>0.0</td>\n      <td>3.907493e-11</td>\n      <td>1738718</td>\n      <td>66828.0</td>\n      <td>402642-124</td>\n      <td>2003</td>\n      <td>41191</td>\n      <td>1.0</td>\n      <td>0</td>\n      <td>1</td>\n      <td>0</td>\n      <td>1738718</td>\n    </tr>\n    <tr>\n      <th>3</th>\n      <td>66828</td>\n      <td>Fausto Pinato</td>\n      <td>55</td>\n      <td>56</td>\n      <td>M</td>\n      <td>0.0</td>\n      <td>3.907493e-11</td>\n      <td>1738718</td>\n      <td>66828.0</td>\n      <td>402642-144</td>\n      <td>2003</td>\n      <td>42072</td>\n      <td>1.0</td>\n      <td>0</td>\n      <td>0</td>\n      <td>0</td>\n      <td>1738718</td>\n    </tr>\n    <tr>\n      <th>4</th>\n      <td>66828</td>\n      <td>Fausto Pinato</td>\n      <td>55</td>\n      <td>56</td>\n      <td>M</td>\n      <td>0.0</td>\n      <td>3.907493e-11</td>\n      <td>1514542</td>\n      <td>66828.0</td>\n      <td>431099-141</td>\n      <td>2003</td>\n      <td>40265</td>\n      <td>1.0</td>\n      <td>0</td>\n      <td>0</td>\n      <td>0</td>\n      <td>1514542</td>\n    </tr>\n  </tbody>\n</table>\n</div>"
     },
     "metadata": {},
     "execution_count": 16
    }
   ],
   "source": [
    "data.head()"
   ]
  },
  {
   "cell_type": "code",
   "execution_count": 17,
   "metadata": {},
   "outputs": [],
   "source": [
    "data1= data.idProposicao.value_counts().head(5)"
   ]
  },
  {
   "cell_type": "code",
   "execution_count": 18,
   "metadata": {},
   "outputs": [],
   "source": [
    "data2= data.aprovacao.value_counts().head(5)"
   ]
  },
  {
   "cell_type": "code",
   "execution_count": 20,
   "metadata": {},
   "outputs": [],
   "source": [
    "values = deputados['siglaSexo'].unique()\n",
    "\n",
    "for value in values[:-1]:\n",
    "    deputados[value] = [1 if v == value else 0 for v in deputados['siglaSexo']]"
   ]
  },
  {
   "cell_type": "code",
   "execution_count": 21,
   "metadata": {},
   "outputs": [
    {
     "output_type": "execute_result",
     "data": {
      "text/plain": [
       "     F\n",
       "0    1\n",
       "1    0\n",
       "2    1\n",
       "3    0\n",
       "4    0\n",
       "..  ..\n",
       "267  0\n",
       "268  0\n",
       "269  0\n",
       "270  0\n",
       "271  0\n",
       "\n",
       "[272 rows x 1 columns]"
      ],
      "text/html": "<div>\n<style scoped>\n    .dataframe tbody tr th:only-of-type {\n        vertical-align: middle;\n    }\n\n    .dataframe tbody tr th {\n        vertical-align: top;\n    }\n\n    .dataframe thead th {\n        text-align: right;\n    }\n</style>\n<table border=\"1\" class=\"dataframe\">\n  <thead>\n    <tr style=\"text-align: right;\">\n      <th></th>\n      <th>F</th>\n    </tr>\n  </thead>\n  <tbody>\n    <tr>\n      <th>0</th>\n      <td>1</td>\n    </tr>\n    <tr>\n      <th>1</th>\n      <td>0</td>\n    </tr>\n    <tr>\n      <th>2</th>\n      <td>1</td>\n    </tr>\n    <tr>\n      <th>3</th>\n      <td>0</td>\n    </tr>\n    <tr>\n      <th>4</th>\n      <td>0</td>\n    </tr>\n    <tr>\n      <th>...</th>\n      <td>...</td>\n    </tr>\n    <tr>\n      <th>267</th>\n      <td>0</td>\n    </tr>\n    <tr>\n      <th>268</th>\n      <td>0</td>\n    </tr>\n    <tr>\n      <th>269</th>\n      <td>0</td>\n    </tr>\n    <tr>\n      <th>270</th>\n      <td>0</td>\n    </tr>\n    <tr>\n      <th>271</th>\n      <td>0</td>\n    </tr>\n  </tbody>\n</table>\n<p>272 rows × 1 columns</p>\n</div>"
     },
     "metadata": {},
     "execution_count": 21
    }
   ],
   "source": [
    "deputados[values[:-1]]"
   ]
  },
  {
   "cell_type": "markdown",
   "metadata": {},
   "source": [
    "#### Influênca sexo na influência de um deputado"
   ]
  },
  {
   "cell_type": "code",
   "execution_count": 22,
   "metadata": {},
   "outputs": [
    {
     "output_type": "stream",
     "name": "stdout",
     "text": [
      "Optimization terminated successfully.\n         Current function value: 0.609767\n         Iterations 9\n"
     ]
    },
    {
     "output_type": "execute_result",
     "data": {
      "text/plain": [
       "<class 'statsmodels.iolib.summary.Summary'>\n",
       "\"\"\"\n",
       "                             Logit Regression Results                            \n",
       "=================================================================================\n",
       "Dep. Variable:     eigenvecto_centrality   No. Observations:                  272\n",
       "Model:                             Logit   Df Residuals:                      271\n",
       "Method:                              MLE   Df Model:                            0\n",
       "Date:                   Fri, 13 Nov 2020   Pseudo R-squ.:                     inf\n",
       "Time:                           19:19:52   Log-Likelihood:                -165.86\n",
       "converged:                          True   LL-Null:                        0.0000\n",
       "Covariance Type:               nonrobust   LLR p-value:                       nan\n",
       "==============================================================================\n",
       "                 coef    std err          z      P>|z|      [0.025      0.975]\n",
       "------------------------------------------------------------------------------\n",
       "F             -5.2196      2.380     -2.193      0.028      -9.883      -0.556\n",
       "==============================================================================\n",
       "\"\"\""
      ],
      "text/html": "<table class=\"simpletable\">\n<caption>Logit Regression Results</caption>\n<tr>\n  <th>Dep. Variable:</th>   <td>eigenvecto_centrality</td> <th>  No. Observations:  </th>  <td>   272</td> \n</tr>\n<tr>\n  <th>Model:</th>                   <td>Logit</td>         <th>  Df Residuals:      </th>  <td>   271</td> \n</tr>\n<tr>\n  <th>Method:</th>                   <td>MLE</td>          <th>  Df Model:          </th>  <td>     0</td> \n</tr>\n<tr>\n  <th>Date:</th>              <td>Fri, 13 Nov 2020</td>    <th>  Pseudo R-squ.:     </th>  <td>   inf</td> \n</tr>\n<tr>\n  <th>Time:</th>                  <td>19:19:52</td>        <th>  Log-Likelihood:    </th> <td> -165.86</td>\n</tr>\n<tr>\n  <th>converged:</th>               <td>True</td>          <th>  LL-Null:           </th> <td>  0.0000</td>\n</tr>\n<tr>\n  <th>Covariance Type:</th>       <td>nonrobust</td>       <th>  LLR p-value:       </th>  <td>   nan</td> \n</tr>\n</table>\n<table class=\"simpletable\">\n<tr>\n  <td></td>     <th>coef</th>     <th>std err</th>      <th>z</th>      <th>P>|z|</th>  <th>[0.025</th>    <th>0.975]</th>  \n</tr>\n<tr>\n  <th>F</th> <td>   -5.2196</td> <td>    2.380</td> <td>   -2.193</td> <td> 0.028</td> <td>   -9.883</td> <td>   -0.556</td>\n</tr>\n</table>"
     },
     "metadata": {},
     "execution_count": 22
    }
   ],
   "source": [
    "model = sm.Logit(deputados['eigenvecto_centrality'], deputados[values[:-1]])\n",
    "result = model.fit()\n",
    "result.summary()"
   ]
  },
  {
   "cell_type": "markdown",
   "metadata": {},
   "source": [
    "#### Influência eficiência na inflência de um deputado"
   ]
  },
  {
   "cell_type": "code",
   "execution_count": null,
   "metadata": {},
   "outputs": [],
   "source": []
  }
 ],
 "metadata": {
  "kernelspec": {
   "display_name": "Python 3",
   "language": "python",
   "name": "python3"
  },
  "language_info": {
   "codemirror_mode": {
    "name": "ipython",
    "version": 3
   },
   "file_extension": ".py",
   "mimetype": "text/x-python",
   "name": "python",
   "nbconvert_exporter": "python",
   "pygments_lexer": "ipython3",
   "version": "3.8.2-final"
  }
 },
 "nbformat": 4,
 "nbformat_minor": 2
}