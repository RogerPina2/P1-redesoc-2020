{
 "cells": [
  {
   "cell_type": "code",
   "execution_count": null,
   "metadata": {},
   "outputs": [],
   "source": [
    "from csv import reader\n",
    "import numpy as np\n",
    "from unidecode import unidecode\n",
    "import pandas as pd\n",
    "import statsmodels.api as sm\n",
    "import scipy as ss\n",
    "from sklearn import preprocessing"
   ]
  },
  {
   "cell_type": "code",
   "execution_count": 2,
   "metadata": {},
   "outputs": [
    {
     "data": {
      "text/html": [
       "        <script type=\"text/javascript\">\n",
       "        window.PlotlyConfig = {MathJaxConfig: 'local'};\n",
       "        if (window.MathJax) {MathJax.Hub.Config({SVG: {font: \"STIX-Web\"}});}\n",
       "        if (typeof require !== 'undefined') {\n",
       "        require.undef(\"plotly\");\n",
       "        requirejs.config({\n",
       "            paths: {\n",
       "                'plotly': ['https://cdn.plot.ly/plotly-latest.min']\n",
       "            }\n",
       "        });\n",
       "        require(['plotly'], function(Plotly) {\n",
       "            window._Plotly = Plotly;\n",
       "        });\n",
       "        }\n",
       "        </script>\n",
       "        "
      ]
     },
     "metadata": {},
     "output_type": "display_data"
    },
    {
     "name": "stdout",
     "output_type": "stream",
     "text": [
      "Baixando arquivos\n",
      "Requests finalizadas\n",
      "---------------------\n",
      "limpa_deputados\n",
      "limpa_todas_votacoes\n",
      "limpa_todas_votacoesVotos\n",
      "limpa_todas_proposicoesAutores\n",
      "limpa_frentes\n",
      "Limpeza completa\n",
      "---------------------\n",
      "Legislatura\n",
      "---------------------\n",
      "Build finalizado\n",
      "---------------------\n",
      "Reciprocity 2003-2006: 0.0\n",
      "Reciprocity 2007-2010: 0.0\n",
      "Reciprocity 2011-2014: 0.0\n",
      "Reciprocity 2015-2018: 0.0\n",
      "Gml para rede\n",
      "---------------------\n",
      "Frentes\n",
      "---------------------\n"
     ]
    }
   ],
   "source": [
    "from limpeza import main as limpa\n",
    "from cria_legislatura import main as legislatura\n",
    "#from build import main as build # rede 1 - Direcionada, ligação votos de Dep em Dep\n",
    "from build_gml import main as build # rede 2 - Não direcionada, ligação correlação entre todos os votos de dois Deps\n",
    "from gml_para_rede import main as rede\n",
    "from conta_frentes import main as frentes\n",
    "from request_data import main as requests\n",
    "\n",
    "# roda só uma vez\n",
    "requests()\n",
    "limpa()\n",
    "legislatura()\n",
    "\n",
    "# roda se mudar o tipo de rede\n",
    "build()\n",
    "rede()\n",
    "frentes()"
   ]
  },
  {
   "cell_type": "code",
   "execution_count": 4,
   "metadata": {},
   "outputs": [],
   "source": [
    "qtd_leg = 4\n",
    "arquivos = {\n",
    "    'deputados': [\n",
    "        'deputados-2003-2006.csv',\n",
    "        'deputados-2007-2010.csv',\n",
    "        'deputados-2011-2014.csv',\n",
    "        'deputados-2015-2018.csv'\n",
    "    ]\n",
    "}\n",
    "\n",
    "path = 'ArquivosLimpos/'"
   ]
  },
  {
   "cell_type": "code",
   "execution_count": 94,
   "metadata": {},
   "outputs": [
    {
     "name": "stdout",
     "output_type": "stream",
     "text": [
      "Ttest_indResult(statistic=1.295826408268886, pvalue=0.19556629049357963)\n",
      "Ttest_indResult(statistic=1.531498709934274, pvalue=0.12623287005608982)\n",
      "Ttest_indResult(statistic=1.1160442733279314, pvalue=0.26487344541655394)\n",
      "Ttest_indResult(statistic=-1.4966099625046663, pvalue=0.13509914129811593)\n"
     ]
    }
   ],
   "source": [
    "for e in range(qtd_leg):\n",
    "    deputados = pd.read_csv(path + arquivos['deputados'][e]).dropna()\n",
    "    H = deputados.query('siglaSexo == \"M\"')['eigenvecto_centrality']\n",
    "    M = deputados.query('siglaSexo == \"F\"')['eigenvecto_centrality']\n",
    "    res = ss.stats.ttest_ind(M,H, equal_var=True)\n",
    "    print(res)"
   ]
  },
  {
   "cell_type": "markdown",
   "metadata": {},
   "source": [
    "### 2003 - 2006"
   ]
  },
  {
   "cell_type": "code",
   "execution_count": 115,
   "metadata": {},
   "outputs": [],
   "source": [
    "deputados = pd.read_csv(path + arquivos['deputados'][0]).dropna()"
   ]
  },
  {
   "cell_type": "code",
   "execution_count": 134,
   "metadata": {
    "scrolled": false
   },
   "outputs": [
    {
     "data": {
      "image/png": "[encoded data removed]",
      "text/plain": [
       "<Figure size 432x288 with 1 Axes>"
      ]
     },
     "metadata": {
      "needs_background": "light"
     },
     "output_type": "display_data"
    }
   ],
   "source": [
    "graf_M = deputados['eigenvecto_centrality'][deputados['siglaSexo'] == 'M'].hist(density=1)"
   ]
  },
  {
   "cell_type": "code",
   "execution_count": 117,
   "metadata": {},
   "outputs": [
    {
     "data": {
      "image/png": "[encoded data removed]",
      "text/plain": [
       "<Figure size 432x288 with 1 Axes>"
      ]
     },
     "metadata": {
      "needs_background": "light"
     },
     "output_type": "display_data"
    }
   ],
   "source": [
    "graf_F = deputados['eigenvecto_centrality'][deputados['siglaSexo'] == 'F'].hist(density=1)"
   ]
  },
  {
   "cell_type": "code",
   "execution_count": 118,
   "metadata": {},
   "outputs": [
    {
     "data": {
      "text/plain": [
       "Ttest_indResult(statistic=1.295826408268886, pvalue=0.19556629049357963)"
      ]
     },
     "execution_count": 118,
     "metadata": {},
     "output_type": "execute_result"
    }
   ],
   "source": [
    "H = deputados.query('siglaSexo == \"M\"')['eigenvecto_centrality']\n",
    "M = deputados.query('siglaSexo == \"F\"')['eigenvecto_centrality']\n",
    "res = ss.stats.ttest_ind(M,H, equal_var=True)\n",
    "res"
   ]
  },
  {
   "cell_type": "markdown",
   "metadata": {},
   "source": [
    "### 2007 - 2010"
   ]
  },
  {
   "cell_type": "code",
   "execution_count": 119,
   "metadata": {},
   "outputs": [],
   "source": [
    "deputados = pd.read_csv(path + arquivos['deputados'][1]).dropna()"
   ]
  },
  {
   "cell_type": "code",
   "execution_count": 120,
   "metadata": {
    "scrolled": false
   },
   "outputs": [
    {
     "data": {
      "image/png": "[encoded data removed]",
      "text/plain": [
       "<Figure size 432x288 with 1 Axes>"
      ]
     },
     "metadata": {
      "needs_background": "light"
     },
     "output_type": "display_data"
    }
   ],
   "source": [
    "graf_M = deputados['eigenvecto_centrality'][deputados['siglaSexo'] == 'M'].hist(density=1)"
   ]
  },
  {
   "cell_type": "code",
   "execution_count": 121,
   "metadata": {},
   "outputs": [
    {
     "data": {
      "image/png": "[encoded data removed]",
      "text/plain": [
       "<Figure size 432x288 with 1 Axes>"
      ]
     },
     "metadata": {
      "needs_background": "light"
     },
     "output_type": "display_data"
    }
   ],
   "source": [
    "graf_F = deputados['eigenvecto_centrality'][deputados['siglaSexo'] == 'F'].hist(density=1)"
   ]
  },
  {
   "cell_type": "code",
   "execution_count": 122,
   "metadata": {},
   "outputs": [
    {
     "data": {
      "text/plain": [
       "Ttest_indResult(statistic=1.531498709934274, pvalue=0.12623287005608982)"
      ]
     },
     "execution_count": 122,
     "metadata": {},
     "output_type": "execute_result"
    }
   ],
   "source": [
    "H = deputados.query('siglaSexo == \"M\"')['eigenvecto_centrality']\n",
    "M = deputados.query('siglaSexo == \"F\"')['eigenvecto_centrality']\n",
    "res = ss.stats.ttest_ind(M,H, equal_var=True)\n",
    "res"
   ]
  },
  {
   "cell_type": "markdown",
   "metadata": {},
   "source": [
    "### 2011 - 2014"
   ]
  },
  {
   "cell_type": "code",
   "execution_count": 123,
   "metadata": {},
   "outputs": [],
   "source": [
    "deputados = pd.read_csv(path + arquivos['deputados'][2]).dropna()"
   ]
  },
  {
   "cell_type": "code",
   "execution_count": 124,
   "metadata": {
    "scrolled": false
   },
   "outputs": [
    {
     "data": {
      "image/png": "[encoded data removed]",
      "text/plain": [
       "<Figure size 432x288 with 1 Axes>"
      ]
     },
     "metadata": {
      "needs_background": "light"
     },
     "output_type": "display_data"
    }
   ],
   "source": [
    "graf_M = deputados['eigenvecto_centrality'][deputados['siglaSexo'] == 'M'].hist(density=1)"
   ]
  },
  {
   "cell_type": "code",
   "execution_count": 125,
   "metadata": {},
   "outputs": [
    {
     "data": {
      "image/png": "[encoded data removed]",
      "text/plain": [
       "<Figure size 432x288 with 1 Axes>"
      ]
     },
     "metadata": {
      "needs_background": "light"
     },
     "output_type": "display_data"
    }
   ],
   "source": [
    "graf_F = deputados['eigenvecto_centrality'][deputados['siglaSexo'] == 'F'].hist(density=1)"
   ]
  },
  {
   "cell_type": "code",
   "execution_count": 126,
   "metadata": {},
   "outputs": [
    {
     "data": {
      "text/plain": [
       "Ttest_indResult(statistic=1.1160442733279314, pvalue=0.26487344541655394)"
      ]
     },
     "execution_count": 126,
     "metadata": {},
     "output_type": "execute_result"
    }
   ],
   "source": [
    "H = deputados.query('siglaSexo == \"M\"')['eigenvecto_centrality']\n",
    "M = deputados.query('siglaSexo == \"F\"')['eigenvecto_centrality']\n",
    "res = ss.stats.ttest_ind(M,H, equal_var=True)\n",
    "res"
   ]
  },
  {
   "cell_type": "markdown",
   "metadata": {},
   "source": [
    "### 2015 - 2018"
   ]
  },
  {
   "cell_type": "code",
   "execution_count": 127,
   "metadata": {},
   "outputs": [],
   "source": [
    "deputados = pd.read_csv(path + arquivos['deputados'][3]).dropna()"
   ]
  },
  {
   "cell_type": "code",
   "execution_count": 128,
   "metadata": {
    "scrolled": false
   },
   "outputs": [
    {
     "data": {
      "image/png": "[encoded data removed]",
      "text/plain": [
       "<Figure size 432x288 with 1 Axes>"
      ]
     },
     "metadata": {
      "needs_background": "light"
     },
     "output_type": "display_data"
    }
   ],
   "source": [
    "graf_M = deputados['eigenvecto_centrality'][deputados['siglaSexo'] == 'M'].hist(density=1)"
   ]
  },
  {
   "cell_type": "code",
   "execution_count": 129,
   "metadata": {},
   "outputs": [
    {
     "data": {
      "image/png": "[encoded data removed]",
      "text/plain": [
       "<Figure size 432x288 with 1 Axes>"
      ]
     },
     "metadata": {
      "needs_background": "light"
     },
     "output_type": "display_data"
    }
   ],
   "source": [
    "graf_F = deputados['eigenvecto_centrality'][deputados['siglaSexo'] == 'F'].hist(density=1)"
   ]
  },
  {
   "cell_type": "code",
   "execution_count": 130,
   "metadata": {},
   "outputs": [
    {
     "data": {
      "text/plain": [
       "Ttest_indResult(statistic=-1.4966099625046663, pvalue=0.13509914129811593)"
      ]
     },
     "execution_count": 130,
     "metadata": {},
     "output_type": "execute_result"
    }
   ],
   "source": [
    "H = deputados.query('siglaSexo == \"M\"')['eigenvecto_centrality']\n",
    "M = deputados.query('siglaSexo == \"F\"')['eigenvecto_centrality']\n",
    "res = ss.stats.ttest_ind(M,H, equal_var=True)\n",
    "res"
   ]
  }
 ],
 "metadata": {
  "kernelspec": {
   "display_name": "Python 3",
   "language": "python",
   "name": "python3"
  },
  "language_info": {
   "codemirror_mode": {
    "name": "ipython",
    "version": 3
   },
   "file_extension": ".py",
   "mimetype": "text/x-python",
   "name": "python",
   "nbconvert_exporter": "python",
   "pygments_lexer": "ipython3",
   "version": "3.6.4"
  }
 },
 "nbformat": 4,
 "nbformat_minor": 2
}
