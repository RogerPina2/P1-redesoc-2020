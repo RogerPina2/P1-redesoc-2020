{
 "cells": [
  {
   "cell_type": "markdown",
   "metadata": {},
   "source": [
    "# Limpeza dos Arquivos\n",
    "\n",
    "Os dados disponibilizados no site da Câmara dos Deputados são dividos em diversos arquivos e não estão previamente organizados para nossos objetivos. Sendo assim, é necessário realizar uma limpeza nos arquivos que serão utilizados, pois iremos juntar dados de diferentes arquivos que possuem algumas categorias irrelevantes. \n",
    "\n",
    "Esse arquivo jupyter é responsável por documentar e realizar a limpeza dos dados baixados, além de gerar as bases de dados que realmente serão utilizadas para criação de redes e análises.\n",
    "\n",
    "Estamos na 56º Legislatura (2019 - 2023)"
   ]
  },
  {
   "cell_type": "code",
   "execution_count": 162,
   "metadata": {},
   "outputs": [],
   "source": [
    "import pandas as pd\n",
    "import requests\n",
    "import os"
   ]
  },
  {
   "cell_type": "code",
   "execution_count": 214,
   "metadata": {},
   "outputs": [
    {
     "data": {
      "text/plain": [
       "['deputados.csv',\n",
       " 'eventos-2019.csv',\n",
       " 'eventosOrgaos-2019.csv',\n",
       " 'eventosPresencaDeputados-2019.csv',\n",
       " 'eventosRequerimentos-2019.csv',\n",
       " 'frentes.csv',\n",
       " 'frentesDeputados.csv',\n",
       " 'legislaturas.csv',\n",
       " 'legislaturasMesas.csv',\n",
       " 'orgaos.csv',\n",
       " 'proposicoes-2019.csv',\n",
       " 'proposicoesAutores-2019.csv',\n",
       " 'proposicoesTemas-2019.csv',\n",
       " 'votacoes-2019.csv',\n",
       " 'votacoesObjetos-2019.csv',\n",
       " 'votacoesOrientacoes-2019.csv',\n",
       " 'votacoesProposicoes-2019.csv',\n",
       " 'votacoesVotos-2019.csv']"
      ]
     },
     "execution_count": 214,
     "metadata": {},
     "output_type": "execute_result"
    }
   ],
   "source": [
    "arquivos = os.listdir('ArquivosCSV-2019')\n",
    "arquivos"
   ]
  },
  {
   "cell_type": "code",
   "execution_count": 222,
   "metadata": {},
   "outputs": [],
   "source": [
    "file_deputados = 'ArquivosCSV-2019/' + arquivos[0]\n",
    "db_deputados = pd.read_csv(file_deputados, delimiter=';')"
   ]
  },
  {
   "cell_type": "markdown",
   "metadata": {},
   "source": [
    "Removendo colunas que não serão utilziadas:\n",
    "    * cpf : Essa coluna estava vazia\n",
    "    * urlRedeSocial : Não possui informações de todos candidatos além de que não será utilizada no momento\n",
    "    * urlWebsite : Não possui informações de todos candidatos além de que não será utilizada no momento\n",
    "    * dataNascimento, dataFalecimento: Informações irrelevantes no momento"
   ]
  },
  {
   "cell_type": "code",
   "execution_count": 223,
   "metadata": {},
   "outputs": [
    {
     "data": {
      "text/plain": [
       "Index(['uri', 'nome', 'idLegislaturaFinal', 'nomeCivil', 'siglaSexo',\n",
       "       'ufNascimento', 'municipioNascimento'],\n",
       "      dtype='object')"
      ]
     },
     "execution_count": 223,
     "metadata": {},
     "output_type": "execute_result"
    }
   ],
   "source": [
    "db_deputados = db_deputados.drop(columns=['cpf', 'urlRedeSocial', 'urlWebsite', 'dataNascimento', 'dataFalecimento', 'idLegislaturaInicial'])\n",
    "db_deputados.columns"
   ]
  },
  {
   "cell_type": "code",
   "execution_count": 224,
   "metadata": {},
   "outputs": [
    {
     "data": {
      "text/html": [
       "<div>\n",
       "<style scoped>\n",
       "    .dataframe tbody tr th:only-of-type {\n",
       "        vertical-align: middle;\n",
       "    }\n",
       "\n",
       "    .dataframe tbody tr th {\n",
       "        vertical-align: top;\n",
       "    }\n",
       "\n",
       "    .dataframe thead th {\n",
       "        text-align: right;\n",
       "    }\n",
       "</style>\n",
       "<table border=\"1\" class=\"dataframe\">\n",
       "  <thead>\n",
       "    <tr style=\"text-align: right;\">\n",
       "      <th></th>\n",
       "      <th>uri</th>\n",
       "      <th>nome</th>\n",
       "      <th>idLegislaturaFinal</th>\n",
       "      <th>nomeCivil</th>\n",
       "      <th>siglaSexo</th>\n",
       "      <th>ufNascimento</th>\n",
       "      <th>municipioNascimento</th>\n",
       "    </tr>\n",
       "  </thead>\n",
       "  <tbody>\n",
       "    <tr>\n",
       "      <th>2824</th>\n",
       "      <td>https://dadosabertos.camara.leg.br/api/v2/depu...</td>\n",
       "      <td>Danilo Forte</td>\n",
       "      <td>56</td>\n",
       "      <td>FRANCISCO DANILO BASTOS FORTE</td>\n",
       "      <td>M</td>\n",
       "      <td>CE</td>\n",
       "      <td>Fortaleza</td>\n",
       "    </tr>\n",
       "    <tr>\n",
       "      <th>2842</th>\n",
       "      <td>https://dadosabertos.camara.leg.br/api/v2/depu...</td>\n",
       "      <td>Norma Ayub</td>\n",
       "      <td>56</td>\n",
       "      <td>NORMA AYUB ALVES</td>\n",
       "      <td>F</td>\n",
       "      <td>ES</td>\n",
       "      <td>Vitória</td>\n",
       "    </tr>\n",
       "    <tr>\n",
       "      <th>2845</th>\n",
       "      <td>https://dadosabertos.camara.leg.br/api/v2/depu...</td>\n",
       "      <td>Fausto Pinato</td>\n",
       "      <td>56</td>\n",
       "      <td>FAUSTO RUY PINATO</td>\n",
       "      <td>M</td>\n",
       "      <td>SP</td>\n",
       "      <td>Fernandópolis</td>\n",
       "    </tr>\n",
       "    <tr>\n",
       "      <th>2847</th>\n",
       "      <td>https://dadosabertos.camara.leg.br/api/v2/depu...</td>\n",
       "      <td>Iracema Portella</td>\n",
       "      <td>56</td>\n",
       "      <td>IRACEMA MARIA PORTELLA NUNES NOGUEIRA LIMA</td>\n",
       "      <td>F</td>\n",
       "      <td>PI</td>\n",
       "      <td>Teresina</td>\n",
       "    </tr>\n",
       "    <tr>\n",
       "      <th>2852</th>\n",
       "      <td>https://dadosabertos.camara.leg.br/api/v2/depu...</td>\n",
       "      <td>Fábio Henrique</td>\n",
       "      <td>56</td>\n",
       "      <td>FABIO HENRIQUE SANTANA DE CARVALHO</td>\n",
       "      <td>M</td>\n",
       "      <td>SE</td>\n",
       "      <td>Simão Dias</td>\n",
       "    </tr>\n",
       "    <tr>\n",
       "      <th>...</th>\n",
       "      <td>...</td>\n",
       "      <td>...</td>\n",
       "      <td>...</td>\n",
       "      <td>...</td>\n",
       "      <td>...</td>\n",
       "      <td>...</td>\n",
       "      <td>...</td>\n",
       "    </tr>\n",
       "    <tr>\n",
       "      <th>7622</th>\n",
       "      <td>https://dadosabertos.camara.leg.br/api/v2/depu...</td>\n",
       "      <td>Dr. Agripino Magalhães</td>\n",
       "      <td>56</td>\n",
       "      <td>AGRIPINO RODRIGUES GOMES MAGALHÃES</td>\n",
       "      <td>M</td>\n",
       "      <td>CE</td>\n",
       "      <td>Boa Viagem</td>\n",
       "    </tr>\n",
       "    <tr>\n",
       "      <th>7623</th>\n",
       "      <td>https://dadosabertos.camara.leg.br/api/v2/depu...</td>\n",
       "      <td>Deuzinho Filho</td>\n",
       "      <td>56</td>\n",
       "      <td>FRANCISCO DEUZINHO DE OLIVEIRA FILHO</td>\n",
       "      <td>M</td>\n",
       "      <td>CE</td>\n",
       "      <td>Caucaia</td>\n",
       "    </tr>\n",
       "    <tr>\n",
       "      <th>7624</th>\n",
       "      <td>https://dadosabertos.camara.leg.br/api/v2/depu...</td>\n",
       "      <td>Nilson F. Stainsack</td>\n",
       "      <td>56</td>\n",
       "      <td>NILSON FRANCISCO STAINSACK</td>\n",
       "      <td>M</td>\n",
       "      <td>SC</td>\n",
       "      <td>Presidente Getúlio</td>\n",
       "    </tr>\n",
       "    <tr>\n",
       "      <th>7625</th>\n",
       "      <td>https://dadosabertos.camara.leg.br/api/v2/depu...</td>\n",
       "      <td>Renato Queiroz</td>\n",
       "      <td>56</td>\n",
       "      <td>RENATO ANDRADE QUEIROZ</td>\n",
       "      <td>M</td>\n",
       "      <td>RR</td>\n",
       "      <td>Boa Vista</td>\n",
       "    </tr>\n",
       "    <tr>\n",
       "      <th>7626</th>\n",
       "      <td>https://dadosabertos.camara.leg.br/api/v2/depu...</td>\n",
       "      <td>Jorge Goetten</td>\n",
       "      <td>56</td>\n",
       "      <td>JORGE GOETTEN DE LIMA</td>\n",
       "      <td>M</td>\n",
       "      <td>SC</td>\n",
       "      <td>Itajaí</td>\n",
       "    </tr>\n",
       "  </tbody>\n",
       "</table>\n",
       "<p>559 rows × 7 columns</p>\n",
       "</div>"
      ],
      "text/plain": [
       "                                                    uri  \\\n",
       "2824  https://dadosabertos.camara.leg.br/api/v2/depu...   \n",
       "2842  https://dadosabertos.camara.leg.br/api/v2/depu...   \n",
       "2845  https://dadosabertos.camara.leg.br/api/v2/depu...   \n",
       "2847  https://dadosabertos.camara.leg.br/api/v2/depu...   \n",
       "2852  https://dadosabertos.camara.leg.br/api/v2/depu...   \n",
       "...                                                 ...   \n",
       "7622  https://dadosabertos.camara.leg.br/api/v2/depu...   \n",
       "7623  https://dadosabertos.camara.leg.br/api/v2/depu...   \n",
       "7624  https://dadosabertos.camara.leg.br/api/v2/depu...   \n",
       "7625  https://dadosabertos.camara.leg.br/api/v2/depu...   \n",
       "7626  https://dadosabertos.camara.leg.br/api/v2/depu...   \n",
       "\n",
       "                        nome  idLegislaturaFinal  \\\n",
       "2824            Danilo Forte                  56   \n",
       "2842              Norma Ayub                  56   \n",
       "2845           Fausto Pinato                  56   \n",
       "2847        Iracema Portella                  56   \n",
       "2852          Fábio Henrique                  56   \n",
       "...                      ...                 ...   \n",
       "7622  Dr. Agripino Magalhães                  56   \n",
       "7623          Deuzinho Filho                  56   \n",
       "7624     Nilson F. Stainsack                  56   \n",
       "7625          Renato Queiroz                  56   \n",
       "7626           Jorge Goetten                  56   \n",
       "\n",
       "                                       nomeCivil siglaSexo ufNascimento  \\\n",
       "2824               FRANCISCO DANILO BASTOS FORTE         M           CE   \n",
       "2842                            NORMA AYUB ALVES         F           ES   \n",
       "2845                           FAUSTO RUY PINATO         M           SP   \n",
       "2847  IRACEMA MARIA PORTELLA NUNES NOGUEIRA LIMA         F           PI   \n",
       "2852          FABIO HENRIQUE SANTANA DE CARVALHO         M           SE   \n",
       "...                                          ...       ...          ...   \n",
       "7622          AGRIPINO RODRIGUES GOMES MAGALHÃES         M           CE   \n",
       "7623        FRANCISCO DEUZINHO DE OLIVEIRA FILHO         M           CE   \n",
       "7624                  NILSON FRANCISCO STAINSACK         M           SC   \n",
       "7625                      RENATO ANDRADE QUEIROZ         M           RR   \n",
       "7626                       JORGE GOETTEN DE LIMA         M           SC   \n",
       "\n",
       "     municipioNascimento  \n",
       "2824           Fortaleza  \n",
       "2842             Vitória  \n",
       "2845       Fernandópolis  \n",
       "2847            Teresina  \n",
       "2852          Simão Dias  \n",
       "...                  ...  \n",
       "7622          Boa Viagem  \n",
       "7623             Caucaia  \n",
       "7624  Presidente Getúlio  \n",
       "7625           Boa Vista  \n",
       "7626              Itajaí  \n",
       "\n",
       "[559 rows x 7 columns]"
      ]
     },
     "execution_count": 224,
     "metadata": {},
     "output_type": "execute_result"
    }
   ],
   "source": [
    "db_deputados = db_deputados[db_deputados.idLegislaturaFinal == 56]\n",
    "db_deputados"
   ]
  },
  {
   "cell_type": "code",
   "execution_count": null,
   "metadata": {},
   "outputs": [],
   "source": [
    "lista_ids = []\n",
    "lista_legislaturas = []\n",
    "for uri in db_deputados.uri:\n",
    "    try:\n",
    "        json = requests.get(uri).json()\n",
    "        deputado_id = json['dados']['id']\n",
    "    except:\n",
    "        deputado_id = None\n",
    "        \n",
    "    lista_ids.append(deputado_id)\n",
    "    \n",
    "db_deputados.loc[:,'deputado_id'] = lista_ids"
   ]
  },
  {
   "cell_type": "code",
   "execution_count": null,
   "metadata": {},
   "outputs": [],
   "source": [
    "db_deputados"
   ]
  },
  {
   "cell_type": "code",
   "execution_count": null,
   "metadata": {},
   "outputs": [],
   "source": []
  }
 ],
 "metadata": {
  "kernelspec": {
   "display_name": "Python 3",
   "language": "python",
   "name": "python3"
  },
  "language_info": {
   "codemirror_mode": {
    "name": "ipython",
    "version": 3
   },
   "file_extension": ".py",
   "mimetype": "text/x-python",
   "name": "python",
   "nbconvert_exporter": "python",
   "pygments_lexer": "ipython3",
   "version": "3.6.4"
  }
 },
 "nbformat": 4,
 "nbformat_minor": 2
}
