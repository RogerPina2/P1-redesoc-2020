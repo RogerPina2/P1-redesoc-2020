{
 "cells": [
  {
   "cell_type": "markdown",
   "metadata": {},
   "source": [
    "# Limpeza dos Arquivos\n",
    "\n",
    "Os dados disponibilizados no site da Câmara dos Deputados são dividos em diversos arquivos e não estão previamente organizados para nossos objetivos. Sendo assim, é necessário realizar uma limpeza nos arquivos que serão utilizados, pois iremos juntar dados de diferentes arquivos que possuem algumas categorias irrelevantes. \n",
    "\n",
    "Esse arquivo jupyter é responsável por documentar e realizar a limpeza dos dados baixados, além de gerar as bases de dados que realmente serão utilizadas para criação de redes e análises.\n",
    "\n",
    "* Observação : Estamos na 56º Legislatura (2019 - 2023)."
   ]
  },
  {
   "cell_type": "markdown",
   "metadata": {},
   "source": [
    "Importação das bibliotecas necessárias pra limpeza."
   ]
  },
  {
   "cell_type": "code",
   "execution_count": 173,
   "metadata": {},
   "outputs": [],
   "source": [
    "import pandas as pd\n",
    "import requests\n",
    "import os\n",
    "from unidecode import unidecode"
   ]
  },
  {
   "cell_type": "markdown",
   "metadata": {},
   "source": [
    "Função que limpa os urls estrings de caracteres não permitidos"
   ]
  },
  {
   "cell_type": "code",
   "execution_count": 174,
   "metadata": {},
   "outputs": [],
   "source": [
    "def limpa_string(item):\n",
    "    if isinstance(item, str):\n",
    "        if 'https' in item:\n",
    "            return item.split('/')[-1]\n",
    "        elif item == \"Não\":\n",
    "            return -1\n",
    "        elif item == \"Sim\":\n",
    "            return 1\n",
    "        elif item == \"Obstrução\":\n",
    "            return 0\n",
    "        elif item == \"Abstenção\":\n",
    "            return 0\n",
    "        elif item == \"Artigo 17\":\n",
    "            return 0\n",
    "        else:\n",
    "            return unidecode(item)\n",
    "    else:\n",
    "        return item"
   ]
  },
  {
   "cell_type": "markdown",
   "metadata": {},
   "source": [
    "Listando os arquivos csv baixados do site da Câmara dos Deputados"
   ]
  },
  {
   "cell_type": "code",
   "execution_count": 175,
   "metadata": {},
   "outputs": [
    {
     "data": {
      "text/plain": [
       "['Ano-2019.csv',\n",
       " 'deputados.csv',\n",
       " 'eventos-2019.csv',\n",
       " 'eventosOrgaos-2019.csv',\n",
       " 'eventosPresencaDeputados-2019.csv',\n",
       " 'eventosRequerimentos-2019.csv',\n",
       " 'frentes.csv',\n",
       " 'frentesDeputados.csv',\n",
       " 'legislaturas.csv',\n",
       " 'legislaturasMesas.csv',\n",
       " 'orgaos.csv',\n",
       " 'proposicoes-2019.csv',\n",
       " 'proposicoesAutores-2019.csv',\n",
       " 'proposicoesTemas-2019.csv',\n",
       " 'README',\n",
       " 'votacoes-2019.csv',\n",
       " 'votacoesObjetos-2019.csv',\n",
       " 'votacoesOrientacoes-2019.csv',\n",
       " 'votacoesProposicoes-2019.csv',\n",
       " 'votacoesVotos-2019.csv']"
      ]
     },
     "execution_count": 175,
     "metadata": {},
     "output_type": "execute_result"
    }
   ],
   "source": [
    "arquivos = os.listdir('ArquivosCSV-2019')\n",
    "arquivos"
   ]
  },
  {
   "cell_type": "markdown",
   "metadata": {},
   "source": [
    "### Limpeza no Arquivo: deputados.csv"
   ]
  },
  {
   "cell_type": "code",
   "execution_count": 176,
   "metadata": {},
   "outputs": [],
   "source": [
    "file_deputados = 'ArquivosCSV-2019/' + arquivos[1]\n",
    "db_deputados = pd.read_csv(file_deputados, delimiter=';')"
   ]
  },
  {
   "cell_type": "markdown",
   "metadata": {},
   "source": [
    "Removendo colunas que não serão utilizadas:\n",
    "* cpf : Essa coluna estava vazia\n",
    "* urlRedeSocial, urlWebsite : Não possui informações de todos candidatos além de que não será utilizada no momento\n",
    "* dataNascimento, dataFalecimento: Informações irrelevantes no momento\n",
    "* idLegislaturaInicial : Informação irrelevantes no momento"
   ]
  },
  {
   "cell_type": "code",
   "execution_count": 177,
   "metadata": {},
   "outputs": [
    {
     "data": {
      "text/plain": [
       "Index(['uri', 'nome', 'idLegislaturaFinal', 'nomeCivil', 'siglaSexo',\n",
       "       'ufNascimento', 'municipioNascimento'],\n",
       "      dtype='object')"
      ]
     },
     "execution_count": 177,
     "metadata": {},
     "output_type": "execute_result"
    }
   ],
   "source": [
    "to_drop = [\n",
    "    'cpf', \n",
    "    'urlRedeSocial', \n",
    "    'urlWebsite', \n",
    "    'dataNascimento',\n",
    "    #'nome',\n",
    "    #'nomeCivil',\n",
    "    #'municipioNascimento'\n",
    "    'dataFalecimento', \n",
    "    'idLegislaturaInicial',\n",
    "]\n",
    "          \n",
    "db_deputados = db_deputados.drop(columns=to_drop)\n",
    "db_deputados.columns"
   ]
  },
  {
   "cell_type": "markdown",
   "metadata": {},
   "source": [
    "Queremos somente os Deputados atuais, ou seja, o que estão fazendo parte da câmara na 56º Legislatura"
   ]
  },
  {
   "cell_type": "code",
   "execution_count": 178,
   "metadata": {},
   "outputs": [
    {
     "data": {
      "text/html": [
       "<div>\n",
       "<style scoped>\n",
       "    .dataframe tbody tr th:only-of-type {\n",
       "        vertical-align: middle;\n",
       "    }\n",
       "\n",
       "    .dataframe tbody tr th {\n",
       "        vertical-align: top;\n",
       "    }\n",
       "\n",
       "    .dataframe thead th {\n",
       "        text-align: right;\n",
       "    }\n",
       "</style>\n",
       "<table border=\"1\" class=\"dataframe\">\n",
       "  <thead>\n",
       "    <tr style=\"text-align: right;\">\n",
       "      <th></th>\n",
       "      <th>uri</th>\n",
       "      <th>nome</th>\n",
       "      <th>idLegislaturaFinal</th>\n",
       "      <th>nomeCivil</th>\n",
       "      <th>siglaSexo</th>\n",
       "      <th>ufNascimento</th>\n",
       "      <th>municipioNascimento</th>\n",
       "    </tr>\n",
       "  </thead>\n",
       "  <tbody>\n",
       "    <tr>\n",
       "      <th>2824</th>\n",
       "      <td>https://dadosabertos.camara.leg.br/api/v2/depu...</td>\n",
       "      <td>Danilo Forte</td>\n",
       "      <td>56</td>\n",
       "      <td>FRANCISCO DANILO BASTOS FORTE</td>\n",
       "      <td>M</td>\n",
       "      <td>CE</td>\n",
       "      <td>Fortaleza</td>\n",
       "    </tr>\n",
       "    <tr>\n",
       "      <th>2842</th>\n",
       "      <td>https://dadosabertos.camara.leg.br/api/v2/depu...</td>\n",
       "      <td>Norma Ayub</td>\n",
       "      <td>56</td>\n",
       "      <td>NORMA AYUB ALVES</td>\n",
       "      <td>F</td>\n",
       "      <td>ES</td>\n",
       "      <td>Vitória</td>\n",
       "    </tr>\n",
       "    <tr>\n",
       "      <th>2845</th>\n",
       "      <td>https://dadosabertos.camara.leg.br/api/v2/depu...</td>\n",
       "      <td>Fausto Pinato</td>\n",
       "      <td>56</td>\n",
       "      <td>FAUSTO RUY PINATO</td>\n",
       "      <td>M</td>\n",
       "      <td>SP</td>\n",
       "      <td>Fernandópolis</td>\n",
       "    </tr>\n",
       "    <tr>\n",
       "      <th>2847</th>\n",
       "      <td>https://dadosabertos.camara.leg.br/api/v2/depu...</td>\n",
       "      <td>Iracema Portella</td>\n",
       "      <td>56</td>\n",
       "      <td>IRACEMA MARIA PORTELLA NUNES NOGUEIRA LIMA</td>\n",
       "      <td>F</td>\n",
       "      <td>PI</td>\n",
       "      <td>Teresina</td>\n",
       "    </tr>\n",
       "    <tr>\n",
       "      <th>2852</th>\n",
       "      <td>https://dadosabertos.camara.leg.br/api/v2/depu...</td>\n",
       "      <td>Fábio Henrique</td>\n",
       "      <td>56</td>\n",
       "      <td>FABIO HENRIQUE SANTANA DE CARVALHO</td>\n",
       "      <td>M</td>\n",
       "      <td>SE</td>\n",
       "      <td>Simão Dias</td>\n",
       "    </tr>\n",
       "    <tr>\n",
       "      <th>...</th>\n",
       "      <td>...</td>\n",
       "      <td>...</td>\n",
       "      <td>...</td>\n",
       "      <td>...</td>\n",
       "      <td>...</td>\n",
       "      <td>...</td>\n",
       "      <td>...</td>\n",
       "    </tr>\n",
       "    <tr>\n",
       "      <th>7622</th>\n",
       "      <td>https://dadosabertos.camara.leg.br/api/v2/depu...</td>\n",
       "      <td>Dr. Agripino Magalhães</td>\n",
       "      <td>56</td>\n",
       "      <td>AGRIPINO RODRIGUES GOMES MAGALHÃES</td>\n",
       "      <td>M</td>\n",
       "      <td>CE</td>\n",
       "      <td>Boa Viagem</td>\n",
       "    </tr>\n",
       "    <tr>\n",
       "      <th>7623</th>\n",
       "      <td>https://dadosabertos.camara.leg.br/api/v2/depu...</td>\n",
       "      <td>Deuzinho Filho</td>\n",
       "      <td>56</td>\n",
       "      <td>FRANCISCO DEUZINHO DE OLIVEIRA FILHO</td>\n",
       "      <td>M</td>\n",
       "      <td>CE</td>\n",
       "      <td>Caucaia</td>\n",
       "    </tr>\n",
       "    <tr>\n",
       "      <th>7624</th>\n",
       "      <td>https://dadosabertos.camara.leg.br/api/v2/depu...</td>\n",
       "      <td>Nilson F. Stainsack</td>\n",
       "      <td>56</td>\n",
       "      <td>NILSON FRANCISCO STAINSACK</td>\n",
       "      <td>M</td>\n",
       "      <td>SC</td>\n",
       "      <td>Presidente Getúlio</td>\n",
       "    </tr>\n",
       "    <tr>\n",
       "      <th>7625</th>\n",
       "      <td>https://dadosabertos.camara.leg.br/api/v2/depu...</td>\n",
       "      <td>Renato Queiroz</td>\n",
       "      <td>56</td>\n",
       "      <td>RENATO ANDRADE QUEIROZ</td>\n",
       "      <td>M</td>\n",
       "      <td>RR</td>\n",
       "      <td>Boa Vista</td>\n",
       "    </tr>\n",
       "    <tr>\n",
       "      <th>7626</th>\n",
       "      <td>https://dadosabertos.camara.leg.br/api/v2/depu...</td>\n",
       "      <td>Jorge Goetten</td>\n",
       "      <td>56</td>\n",
       "      <td>JORGE GOETTEN DE LIMA</td>\n",
       "      <td>M</td>\n",
       "      <td>SC</td>\n",
       "      <td>Itajaí</td>\n",
       "    </tr>\n",
       "  </tbody>\n",
       "</table>\n",
       "<p>559 rows × 7 columns</p>\n",
       "</div>"
      ],
      "text/plain": [
       "                                                    uri  \\\n",
       "2824  https://dadosabertos.camara.leg.br/api/v2/depu...   \n",
       "2842  https://dadosabertos.camara.leg.br/api/v2/depu...   \n",
       "2845  https://dadosabertos.camara.leg.br/api/v2/depu...   \n",
       "2847  https://dadosabertos.camara.leg.br/api/v2/depu...   \n",
       "2852  https://dadosabertos.camara.leg.br/api/v2/depu...   \n",
       "...                                                 ...   \n",
       "7622  https://dadosabertos.camara.leg.br/api/v2/depu...   \n",
       "7623  https://dadosabertos.camara.leg.br/api/v2/depu...   \n",
       "7624  https://dadosabertos.camara.leg.br/api/v2/depu...   \n",
       "7625  https://dadosabertos.camara.leg.br/api/v2/depu...   \n",
       "7626  https://dadosabertos.camara.leg.br/api/v2/depu...   \n",
       "\n",
       "                        nome  idLegislaturaFinal  \\\n",
       "2824            Danilo Forte                  56   \n",
       "2842              Norma Ayub                  56   \n",
       "2845           Fausto Pinato                  56   \n",
       "2847        Iracema Portella                  56   \n",
       "2852          Fábio Henrique                  56   \n",
       "...                      ...                 ...   \n",
       "7622  Dr. Agripino Magalhães                  56   \n",
       "7623          Deuzinho Filho                  56   \n",
       "7624     Nilson F. Stainsack                  56   \n",
       "7625          Renato Queiroz                  56   \n",
       "7626           Jorge Goetten                  56   \n",
       "\n",
       "                                       nomeCivil siglaSexo ufNascimento  \\\n",
       "2824               FRANCISCO DANILO BASTOS FORTE         M           CE   \n",
       "2842                            NORMA AYUB ALVES         F           ES   \n",
       "2845                           FAUSTO RUY PINATO         M           SP   \n",
       "2847  IRACEMA MARIA PORTELLA NUNES NOGUEIRA LIMA         F           PI   \n",
       "2852          FABIO HENRIQUE SANTANA DE CARVALHO         M           SE   \n",
       "...                                          ...       ...          ...   \n",
       "7622          AGRIPINO RODRIGUES GOMES MAGALHÃES         M           CE   \n",
       "7623        FRANCISCO DEUZINHO DE OLIVEIRA FILHO         M           CE   \n",
       "7624                  NILSON FRANCISCO STAINSACK         M           SC   \n",
       "7625                      RENATO ANDRADE QUEIROZ         M           RR   \n",
       "7626                       JORGE GOETTEN DE LIMA         M           SC   \n",
       "\n",
       "     municipioNascimento  \n",
       "2824           Fortaleza  \n",
       "2842             Vitória  \n",
       "2845       Fernandópolis  \n",
       "2847            Teresina  \n",
       "2852          Simão Dias  \n",
       "...                  ...  \n",
       "7622          Boa Viagem  \n",
       "7623             Caucaia  \n",
       "7624  Presidente Getúlio  \n",
       "7625           Boa Vista  \n",
       "7626              Itajaí  \n",
       "\n",
       "[559 rows x 7 columns]"
      ]
     },
     "execution_count": 178,
     "metadata": {},
     "output_type": "execute_result"
    }
   ],
   "source": [
    "db_deputados = db_deputados[db_deputados.idLegislaturaFinal == 56]\n",
    "db_deputados"
   ]
  },
  {
   "cell_type": "markdown",
   "metadata": {},
   "source": [
    "Uma informação importante que será necessári é o id do Deputado. Essa informação não possui uma coluna para identifica-la, porém a coluna uri, que referencia os endpoints com informações de cada deputado, realiza a pesquisa das informações utilizando o id do candidato. Poderíamos realizar um simples parse para obter o id, entretando preferimos realizar a coleta a partir do endpoint pois poderia trazer mais informações do deputado. Atualmente a única informação que está sendo lida é o id do deputado mas a estrutura utilizada permite pegar as demais informações com facilidade."
   ]
  },
  {
   "cell_type": "markdown",
   "metadata": {},
   "source": [
    "Iremos coletar o id de cada deputado e adicionar uma coluna \"deputado_id\" no dataframe"
   ]
  },
  {
   "cell_type": "code",
   "execution_count": 179,
   "metadata": {},
   "outputs": [],
   "source": [
    "# lista_ids = []\n",
    "# for uri in db_deputados.uri:\n",
    "#     try:\n",
    "#         json = requests.get(uri).json()\n",
    "#         deputado_id = json['dados']['id']\n",
    "#     except:\n",
    "#         deputado_id = None\n",
    "        \n",
    "#     lista_ids.append(deputado_id)\n",
    "    \n",
    "# db_deputados.loc[:,'deputado_id'] = lista_ids"
   ]
  },
  {
   "cell_type": "markdown",
   "metadata": {},
   "source": [
    "Em seguida, podemos droppar a coluna uri"
   ]
  },
  {
   "cell_type": "code",
   "execution_count": 180,
   "metadata": {},
   "outputs": [],
   "source": [
    "#db_deputados = db_deputados.drop(columns=['uri'])"
   ]
  },
  {
   "cell_type": "code",
   "execution_count": 181,
   "metadata": {},
   "outputs": [],
   "source": [
    "db_deputados = db_deputados.applymap(limpa_string)\n",
    "db_deputados.rename(columns={ 'uri' : 'deputado_id' }, inplace=True)"
   ]
  },
  {
   "cell_type": "markdown",
   "metadata": {},
   "source": [
    "Por fim, vamos criar um novo documento com as informações "
   ]
  },
  {
   "cell_type": "code",
   "execution_count": 182,
   "metadata": {},
   "outputs": [],
   "source": [
    "db_deputados.to_csv('Arquivos Limpos/' + 'deputados.csv', encoding='utf-8')"
   ]
  },
  {
   "cell_type": "markdown",
   "metadata": {},
   "source": [
    "### Limpeza no Arquivo: votacoes-2019.csv"
   ]
  },
  {
   "cell_type": "code",
   "execution_count": 183,
   "metadata": {},
   "outputs": [],
   "source": [
    "file_votacoes = 'ArquivosCSV-2019/votacoes-2019.csv'\n",
    "votacoes = pd.read_csv(file_votacoes, delimiter=';')"
   ]
  },
  {
   "cell_type": "markdown",
   "metadata": {},
   "source": [
    "Removendo colunas que não serão utilizadas:"
   ]
  },
  {
   "cell_type": "code",
   "execution_count": 184,
   "metadata": {},
   "outputs": [],
   "source": [
    "to_drop = ['uri', \n",
    "           'data', \n",
    "           'dataHoraRegistro', \n",
    "           'uriOrgao',\n",
    "           'siglaOrgao',\n",
    "           'uriEvento',\n",
    "           'descricao',\n",
    "           'ultimaAberturaVotacao_dataHoraRegistro',\n",
    "           'ultimaAberturaVotacao_descricao',\n",
    "           'ultimaApresentacaoProposicao_dataHoraRegistro',\n",
    "           'ultimaApresentacaoProposicao_descricao',\n",
    "           'ultimaApresentacaoProposicao_uriProposicao'\n",
    "          ]\n",
    "\n",
    "votacoes.drop(to_drop, inplace=True, axis=1)"
   ]
  },
  {
   "cell_type": "markdown",
   "metadata": {},
   "source": [
    "Descartando linhas com valores faltantes"
   ]
  },
  {
   "cell_type": "code",
   "execution_count": 185,
   "metadata": {},
   "outputs": [],
   "source": [
    "votacoes.dropna(inplace=True,axis=0)"
   ]
  },
  {
   "cell_type": "markdown",
   "metadata": {},
   "source": [
    "Dataframe limpo:"
   ]
  },
  {
   "cell_type": "code",
   "execution_count": 186,
   "metadata": {},
   "outputs": [
    {
     "data": {
      "text/html": [
       "<div>\n",
       "<style scoped>\n",
       "    .dataframe tbody tr th:only-of-type {\n",
       "        vertical-align: middle;\n",
       "    }\n",
       "\n",
       "    .dataframe tbody tr th {\n",
       "        vertical-align: top;\n",
       "    }\n",
       "\n",
       "    .dataframe thead th {\n",
       "        text-align: right;\n",
       "    }\n",
       "</style>\n",
       "<table border=\"1\" class=\"dataframe\">\n",
       "  <thead>\n",
       "    <tr style=\"text-align: right;\">\n",
       "      <th></th>\n",
       "      <th>id</th>\n",
       "      <th>idOrgao</th>\n",
       "      <th>idEvento</th>\n",
       "      <th>aprovacao</th>\n",
       "      <th>votosSim</th>\n",
       "      <th>votosNao</th>\n",
       "      <th>votosOutros</th>\n",
       "      <th>ultimaApresentacaoProposicao_idProposicao</th>\n",
       "    </tr>\n",
       "  </thead>\n",
       "  <tbody>\n",
       "    <tr>\n",
       "      <th>0</th>\n",
       "      <td>2179189-45</td>\n",
       "      <td>180</td>\n",
       "      <td>54502</td>\n",
       "      <td>0.0</td>\n",
       "      <td>21</td>\n",
       "      <td>238</td>\n",
       "      <td>32</td>\n",
       "      <td>2186805</td>\n",
       "    </tr>\n",
       "    <tr>\n",
       "      <th>1</th>\n",
       "      <td>2179189-48</td>\n",
       "      <td>180</td>\n",
       "      <td>54502</td>\n",
       "      <td>0.0</td>\n",
       "      <td>0</td>\n",
       "      <td>0</td>\n",
       "      <td>0</td>\n",
       "      <td>2186805</td>\n",
       "    </tr>\n",
       "    <tr>\n",
       "      <th>2</th>\n",
       "      <td>2179189-59</td>\n",
       "      <td>180</td>\n",
       "      <td>54502</td>\n",
       "      <td>0.0</td>\n",
       "      <td>53</td>\n",
       "      <td>294</td>\n",
       "      <td>47</td>\n",
       "      <td>2191685</td>\n",
       "    </tr>\n",
       "    <tr>\n",
       "      <th>3</th>\n",
       "      <td>2179189-62</td>\n",
       "      <td>180</td>\n",
       "      <td>54502</td>\n",
       "      <td>1.0</td>\n",
       "      <td>0</td>\n",
       "      <td>0</td>\n",
       "      <td>0</td>\n",
       "      <td>2191685</td>\n",
       "    </tr>\n",
       "    <tr>\n",
       "      <th>4</th>\n",
       "      <td>2179189-73</td>\n",
       "      <td>180</td>\n",
       "      <td>54502</td>\n",
       "      <td>0.0</td>\n",
       "      <td>0</td>\n",
       "      <td>0</td>\n",
       "      <td>0</td>\n",
       "      <td>2191771</td>\n",
       "    </tr>\n",
       "  </tbody>\n",
       "</table>\n",
       "</div>"
      ],
      "text/plain": [
       "           id  idOrgao  idEvento  aprovacao  votosSim  votosNao  votosOutros  \\\n",
       "0  2179189-45      180     54502        0.0        21       238           32   \n",
       "1  2179189-48      180     54502        0.0         0         0            0   \n",
       "2  2179189-59      180     54502        0.0        53       294           47   \n",
       "3  2179189-62      180     54502        1.0         0         0            0   \n",
       "4  2179189-73      180     54502        0.0         0         0            0   \n",
       "\n",
       "   ultimaApresentacaoProposicao_idProposicao  \n",
       "0                                    2186805  \n",
       "1                                    2186805  \n",
       "2                                    2191685  \n",
       "3                                    2191685  \n",
       "4                                    2191771  "
      ]
     },
     "execution_count": 186,
     "metadata": {},
     "output_type": "execute_result"
    }
   ],
   "source": [
    "votacoes.head()"
   ]
  },
  {
   "cell_type": "code",
   "execution_count": 187,
   "metadata": {},
   "outputs": [
    {
     "data": {
      "text/plain": [
       "id                                            object\n",
       "idOrgao                                        int64\n",
       "idEvento                                       int64\n",
       "aprovacao                                    float64\n",
       "votosSim                                       int64\n",
       "votosNao                                       int64\n",
       "votosOutros                                    int64\n",
       "ultimaApresentacaoProposicao_idProposicao      int64\n",
       "dtype: object"
      ]
     },
     "execution_count": 187,
     "metadata": {},
     "output_type": "execute_result"
    }
   ],
   "source": [
    "votacoes.dtypes"
   ]
  },
  {
   "cell_type": "code",
   "execution_count": 188,
   "metadata": {},
   "outputs": [],
   "source": [
    "votacoes.to_csv('Arquivos Limpos/' + 'votacoes.csv', encoding='utf-8')"
   ]
  },
  {
   "cell_type": "markdown",
   "metadata": {},
   "source": [
    "### Limpeza no Arquivo: votacoesVotos-2019.csv"
   ]
  },
  {
   "cell_type": "code",
   "execution_count": 189,
   "metadata": {},
   "outputs": [],
   "source": [
    "votacoesVotos = pd.read_csv('ArquivosCSV-2019/votacoesVotos-2019.csv', delimiter=';') "
   ]
  },
  {
   "cell_type": "markdown",
   "metadata": {},
   "source": [
    "Removendo colunas que não serão utilizadas:"
   ]
  },
  {
   "cell_type": "code",
   "execution_count": 190,
   "metadata": {},
   "outputs": [],
   "source": [
    "to_drop = ['uriVotacao', \n",
    "           'dataHoraVoto', \n",
    "           'deputado_uri', \n",
    "           'deputado_nome',\n",
    "           'deputado_idLegislatura',\n",
    "           'deputado_urlFoto'\n",
    "          ]\n",
    "\n",
    "votacoesVotos.drop(to_drop, inplace=True, axis=1)"
   ]
  },
  {
   "cell_type": "markdown",
   "metadata": {},
   "source": [
    "Limpando e renomeando a coluna cos urls dos partidos"
   ]
  },
  {
   "cell_type": "code",
   "execution_count": 191,
   "metadata": {},
   "outputs": [],
   "source": [
    "votacoesVotos = votacoesVotos.applymap(limpa_string)\n",
    "votacoesVotos.rename(columns={ 'deputado_uriPartido' : 'pardido_id' }, inplace=True)"
   ]
  },
  {
   "cell_type": "markdown",
   "metadata": {},
   "source": [
    "Dataframe limpo:"
   ]
  },
  {
   "cell_type": "code",
   "execution_count": 192,
   "metadata": {
    "scrolled": true
   },
   "outputs": [
    {
     "data": {
      "text/html": [
       "<div>\n",
       "<style scoped>\n",
       "    .dataframe tbody tr th:only-of-type {\n",
       "        vertical-align: middle;\n",
       "    }\n",
       "\n",
       "    .dataframe tbody tr th {\n",
       "        vertical-align: top;\n",
       "    }\n",
       "\n",
       "    .dataframe thead th {\n",
       "        text-align: right;\n",
       "    }\n",
       "</style>\n",
       "<table border=\"1\" class=\"dataframe\">\n",
       "  <thead>\n",
       "    <tr style=\"text-align: right;\">\n",
       "      <th></th>\n",
       "      <th>idVotacao</th>\n",
       "      <th>voto</th>\n",
       "      <th>deputado_id</th>\n",
       "      <th>deputado_siglaPartido</th>\n",
       "      <th>pardido_id</th>\n",
       "      <th>deputado_siglaUf</th>\n",
       "    </tr>\n",
       "  </thead>\n",
       "  <tbody>\n",
       "    <tr>\n",
       "      <th>0</th>\n",
       "      <td>16526-506</td>\n",
       "      <td>-1</td>\n",
       "      <td>204554</td>\n",
       "      <td>PL</td>\n",
       "      <td>37906</td>\n",
       "      <td>BA</td>\n",
       "    </tr>\n",
       "    <tr>\n",
       "      <th>1</th>\n",
       "      <td>16526-506</td>\n",
       "      <td>-1</td>\n",
       "      <td>204521</td>\n",
       "      <td>PSL</td>\n",
       "      <td>36837</td>\n",
       "      <td>SP</td>\n",
       "    </tr>\n",
       "    <tr>\n",
       "      <th>2</th>\n",
       "      <td>16526-506</td>\n",
       "      <td>-1</td>\n",
       "      <td>204560</td>\n",
       "      <td>PSDB</td>\n",
       "      <td>36835</td>\n",
       "      <td>BA</td>\n",
       "    </tr>\n",
       "    <tr>\n",
       "      <th>3</th>\n",
       "      <td>16526-506</td>\n",
       "      <td>-1</td>\n",
       "      <td>204528</td>\n",
       "      <td>NOVO</td>\n",
       "      <td>37901</td>\n",
       "      <td>SP</td>\n",
       "    </tr>\n",
       "    <tr>\n",
       "      <th>4</th>\n",
       "      <td>16526-506</td>\n",
       "      <td>-1</td>\n",
       "      <td>121948</td>\n",
       "      <td>PP</td>\n",
       "      <td>37903</td>\n",
       "      <td>GO</td>\n",
       "    </tr>\n",
       "  </tbody>\n",
       "</table>\n",
       "</div>"
      ],
      "text/plain": [
       "   idVotacao  voto  deputado_id deputado_siglaPartido pardido_id  \\\n",
       "0  16526-506    -1       204554                    PL      37906   \n",
       "1  16526-506    -1       204521                   PSL      36837   \n",
       "2  16526-506    -1       204560                  PSDB      36835   \n",
       "3  16526-506    -1       204528                  NOVO      37901   \n",
       "4  16526-506    -1       121948                    PP      37903   \n",
       "\n",
       "  deputado_siglaUf  \n",
       "0               BA  \n",
       "1               SP  \n",
       "2               BA  \n",
       "3               SP  \n",
       "4               GO  "
      ]
     },
     "execution_count": 192,
     "metadata": {},
     "output_type": "execute_result"
    }
   ],
   "source": [
    "votacoesVotos.head()"
   ]
  },
  {
   "cell_type": "code",
   "execution_count": null,
   "metadata": {},
   "outputs": [],
   "source": []
  },
  {
   "cell_type": "code",
   "execution_count": 193,
   "metadata": {},
   "outputs": [],
   "source": [
    "votacoesVotos.to_csv('Arquivos Limpos/' + 'votacoesVotos.csv', encoding='utf-8')"
   ]
  },
  {
   "cell_type": "code",
   "execution_count": null,
   "metadata": {},
   "outputs": [],
   "source": []
  },
  {
   "cell_type": "code",
   "execution_count": 194,
   "metadata": {},
   "outputs": [],
   "source": [
    "proposicoesAutores = pd.read_csv('ArquivosCSV-2019/proposicoesAutores-2019.csv', delimiter=';') "
   ]
  },
  {
   "cell_type": "code",
   "execution_count": 195,
   "metadata": {},
   "outputs": [],
   "source": [
    "to_drop = ['uriProposicao', \n",
    "           'uriAutor', \n",
    "           'codTipoAutor',\n",
    "           'tipoAutor',\n",
    "           'nomeAutor',\n",
    "           'siglaPartidoAutor',\n",
    "           'uriPartidoAutor',\n",
    "           'siglaUFAutor',\n",
    "           'ordemAssinatura',\n",
    "           'proponente'\n",
    "          ]\n",
    "\n",
    "proposicoesAutores.drop(to_drop, inplace=True, axis=1)"
   ]
  },
  {
   "cell_type": "code",
   "execution_count": 196,
   "metadata": {},
   "outputs": [
    {
     "data": {
      "text/html": [
       "<div>\n",
       "<style scoped>\n",
       "    .dataframe tbody tr th:only-of-type {\n",
       "        vertical-align: middle;\n",
       "    }\n",
       "\n",
       "    .dataframe tbody tr th {\n",
       "        vertical-align: top;\n",
       "    }\n",
       "\n",
       "    .dataframe thead th {\n",
       "        text-align: right;\n",
       "    }\n",
       "</style>\n",
       "<table border=\"1\" class=\"dataframe\">\n",
       "  <thead>\n",
       "    <tr style=\"text-align: right;\">\n",
       "      <th></th>\n",
       "      <th>idProposicao</th>\n",
       "      <th>idDeputadoAutor</th>\n",
       "    </tr>\n",
       "  </thead>\n",
       "  <tbody>\n",
       "    <tr>\n",
       "      <th>0</th>\n",
       "      <td>2264575</td>\n",
       "      <td>NaN</td>\n",
       "    </tr>\n",
       "    <tr>\n",
       "      <th>1</th>\n",
       "      <td>2262829</td>\n",
       "      <td>NaN</td>\n",
       "    </tr>\n",
       "    <tr>\n",
       "      <th>2</th>\n",
       "      <td>2255608</td>\n",
       "      <td>NaN</td>\n",
       "    </tr>\n",
       "    <tr>\n",
       "      <th>3</th>\n",
       "      <td>2244090</td>\n",
       "      <td>NaN</td>\n",
       "    </tr>\n",
       "    <tr>\n",
       "      <th>4</th>\n",
       "      <td>2244089</td>\n",
       "      <td>NaN</td>\n",
       "    </tr>\n",
       "  </tbody>\n",
       "</table>\n",
       "</div>"
      ],
      "text/plain": [
       "   idProposicao  idDeputadoAutor\n",
       "0       2264575              NaN\n",
       "1       2262829              NaN\n",
       "2       2255608              NaN\n",
       "3       2244090              NaN\n",
       "4       2244089              NaN"
      ]
     },
     "execution_count": 196,
     "metadata": {},
     "output_type": "execute_result"
    }
   ],
   "source": [
    "proposicoesAutores.head()"
   ]
  },
  {
   "cell_type": "code",
   "execution_count": 197,
   "metadata": {},
   "outputs": [],
   "source": [
    "proposicoesAutores.dropna(inplace=True,axis=0)"
   ]
  },
  {
   "cell_type": "code",
   "execution_count": 198,
   "metadata": {},
   "outputs": [],
   "source": [
    "proposicoesAutores.to_csv('Arquivos Limpos/' + 'proposicoesAutores.csv', encoding='utf-8')"
   ]
  },
  {
   "cell_type": "markdown",
   "metadata": {},
   "source": [
    "### Limpeza no Arquivo: Ano-2019.csv (Despesas)"
   ]
  },
  {
   "cell_type": "code",
   "execution_count": 199,
   "metadata": {},
   "outputs": [],
   "source": [
    "file_despesas = 'ArquivosCSV-2019/' + 'Ano-2019.csv'\n",
    "db_despesas = pd.read_csv(file_despesas, delimiter=';')"
   ]
  },
  {
   "cell_type": "code",
   "execution_count": 200,
   "metadata": {},
   "outputs": [],
   "source": [
    "to_drop = ['cpf', \n",
    "           'nuCarteiraParlamentar', \n",
    "           'numParcela',\n",
    "           'numAno',\n",
    "           'txtPassageiro',\n",
    "           'txtTrecho',\n",
    "           'numLote',\n",
    "           'numRessarcimento',\n",
    "           'vlrRestituicao',\n",
    "           'ideDocumento',\n",
    "           'urlDocumento',\n",
    "           'ideCadastro',\n",
    "           'sgUF',\n",
    "           'numEspecificacaoSubCota',\n",
    "           'txtDescricaoEspecificacao',\n",
    "           'txtFornecedor',\n",
    "           'txtCNPJCPF',\n",
    "           'indTipoDocumento',\n",
    "           'vlrGlosa',\n",
    "           'datEmissao',\n",
    "           'txtNumero'\n",
    "          ]\n",
    "\n",
    "db_despesas.drop(to_drop, inplace=True, axis=1)"
   ]
  },
  {
   "cell_type": "code",
   "execution_count": 201,
   "metadata": {},
   "outputs": [],
   "source": [
    "db_despesas = db_despesas[db_despesas.index > 904]\n",
    "db_despesas.to_csv('ArquivosLimpos/' + 'Despesas-2019.csv', encoding='utf-8')"
   ]
  },
  {
   "cell_type": "code",
   "execution_count": null,
   "metadata": {},
   "outputs": [],
   "source": []
  }
 ],
 "metadata": {
  "kernelspec": {
   "display_name": "Python 3",
   "language": "python",
   "name": "python3"
  },
  "language_info": {
   "codemirror_mode": {
    "name": "ipython",
    "version": 3
   },
   "file_extension": ".py",
   "mimetype": "text/x-python",
   "name": "python",
   "nbconvert_exporter": "python",
   "pygments_lexer": "ipython3",
   "version": "3.7.3"
  }
 },
 "nbformat": 4,
 "nbformat_minor": 2
}
