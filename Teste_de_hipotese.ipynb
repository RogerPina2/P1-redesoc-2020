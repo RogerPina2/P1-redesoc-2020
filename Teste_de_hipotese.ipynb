{
 "cells": [
  {
   "cell_type": "code",
   "execution_count": 33,
   "metadata": {},
   "outputs": [],
   "source": [
    "from csv import reader\n",
    "import numpy as np\n",
    "from unidecode import unidecode\n",
    "import pandas as pd\n",
    "import statsmodels.api as sm\n",
    "import scipy as ss"
   ]
  },
  {
   "cell_type": "code",
   "execution_count": 2,
   "metadata": {},
   "outputs": [
    {
     "data": {
      "text/html": [
       "        <script type=\"text/javascript\">\n",
       "        window.PlotlyConfig = {MathJaxConfig: 'local'};\n",
       "        if (window.MathJax) {MathJax.Hub.Config({SVG: {font: \"STIX-Web\"}});}\n",
       "        if (typeof require !== 'undefined') {\n",
       "        require.undef(\"plotly\");\n",
       "        requirejs.config({\n",
       "            paths: {\n",
       "                'plotly': ['https://cdn.plot.ly/plotly-latest.min']\n",
       "            }\n",
       "        });\n",
       "        require(['plotly'], function(Plotly) {\n",
       "            window._Plotly = Plotly;\n",
       "        });\n",
       "        }\n",
       "        </script>\n",
       "        "
      ]
     },
     "metadata": {},
     "output_type": "display_data"
    },
    {
     "name": "stdout",
     "output_type": "stream",
     "text": [
      "----------------------\n",
      "0.08808553971486761\n",
      "----------------------\n"
     ]
    }
   ],
   "source": [
    "from limpeza import main as limpa\n",
    "from cria_legislatura import main as legislatura\n",
    "from build import main as build\n",
    "from gml_para_rede import main as rede\n",
    "from conta_frentes import main as frentes\n",
    "\n",
    "limpa()\n",
    "legislatura()\n",
    "build()\n",
    "rede()\n",
    "frentes()"
   ]
  },
  {
   "cell_type": "markdown",
   "metadata": {},
   "source": [
    "#### Nesse teste de hipótese estariamos avaliando qual a influência das mulheres nas votações, será que os homens possuem além de maior representativade maior facilidade para aprovação de propostas?"
   ]
  },
  {
   "cell_type": "code",
   "execution_count": 14,
   "metadata": {},
   "outputs": [],
   "source": [
    "deputados = pd.read_csv('ArquivosLimpos/deputados-2015-2018.csv').dropna()"
   ]
  },
  {
   "cell_type": "code",
   "execution_count": 15,
   "metadata": {},
   "outputs": [
    {
     "data": {
      "text/plain": [
       "deputado_id                 int64\n",
       "nome                       object\n",
       "idLegislaturaInicial        int64\n",
       "idLegislaturaFinal          int64\n",
       "siglaSexo                  object\n",
       "betweenness_centrality    float64\n",
       "degree_centrality         float64\n",
       "eigenvecto_centrality     float64\n",
       "Frentes                     int64\n",
       "dtype: object"
      ]
     },
     "execution_count": 15,
     "metadata": {},
     "output_type": "execute_result"
    }
   ],
   "source": [
    "deputados.dtypes"
   ]
  },
  {
   "cell_type": "code",
   "execution_count": 16,
   "metadata": {},
   "outputs": [],
   "source": [
    "values = deputados['siglaSexo'].unique()\n",
    "\n",
    "for value in values[:-1]:\n",
    "    deputados[value] = [1 if v == value else 0 for v in deputados['siglaSexo']]"
   ]
  },
  {
   "cell_type": "code",
   "execution_count": 17,
   "metadata": {},
   "outputs": [],
   "source": [
    "deputados['F'] = deputados['siglaSexo'].apply(lambda value: 1 if value == \"F\" else 0)"
   ]
  },
  {
   "cell_type": "code",
   "execution_count": 25,
   "metadata": {},
   "outputs": [
    {
     "data": {
      "text/html": [
       "<div>\n",
       "<style scoped>\n",
       "    .dataframe tbody tr th:only-of-type {\n",
       "        vertical-align: middle;\n",
       "    }\n",
       "\n",
       "    .dataframe tbody tr th {\n",
       "        vertical-align: top;\n",
       "    }\n",
       "\n",
       "    .dataframe thead th {\n",
       "        text-align: right;\n",
       "    }\n",
       "</style>\n",
       "<table border=\"1\" class=\"dataframe\">\n",
       "  <thead>\n",
       "    <tr style=\"text-align: right;\">\n",
       "      <th></th>\n",
       "      <th>deputado_id</th>\n",
       "      <th>nome</th>\n",
       "      <th>idLegislaturaInicial</th>\n",
       "      <th>idLegislaturaFinal</th>\n",
       "      <th>siglaSexo</th>\n",
       "      <th>betweenness_centrality</th>\n",
       "      <th>degree_centrality</th>\n",
       "      <th>eigenvecto_centrality</th>\n",
       "      <th>Frentes</th>\n",
       "      <th>M</th>\n",
       "      <th>F</th>\n",
       "    </tr>\n",
       "  </thead>\n",
       "  <tbody>\n",
       "    <tr>\n",
       "      <th>0</th>\n",
       "      <td>4930</td>\n",
       "      <td>SILVIO COSTA</td>\n",
       "      <td>53</td>\n",
       "      <td>55</td>\n",
       "      <td>M</td>\n",
       "      <td>0.0</td>\n",
       "      <td>0.090610</td>\n",
       "      <td>4.965024e-11</td>\n",
       "      <td>63</td>\n",
       "      <td>1</td>\n",
       "      <td>0</td>\n",
       "    </tr>\n",
       "    <tr>\n",
       "      <th>1</th>\n",
       "      <td>4931</td>\n",
       "      <td>IZALCI LUCAS</td>\n",
       "      <td>53</td>\n",
       "      <td>55</td>\n",
       "      <td>M</td>\n",
       "      <td>0.0</td>\n",
       "      <td>0.090610</td>\n",
       "      <td>4.965024e-11</td>\n",
       "      <td>195</td>\n",
       "      <td>1</td>\n",
       "      <td>0</td>\n",
       "    </tr>\n",
       "    <tr>\n",
       "      <th>2</th>\n",
       "      <td>62881</td>\n",
       "      <td>Danilo Forte</td>\n",
       "      <td>54</td>\n",
       "      <td>56</td>\n",
       "      <td>M</td>\n",
       "      <td>0.0</td>\n",
       "      <td>0.087315</td>\n",
       "      <td>4.965024e-11</td>\n",
       "      <td>227</td>\n",
       "      <td>1</td>\n",
       "      <td>0</td>\n",
       "    </tr>\n",
       "    <tr>\n",
       "      <th>3</th>\n",
       "      <td>64960</td>\n",
       "      <td>MARIA HELENA</td>\n",
       "      <td>52</td>\n",
       "      <td>55</td>\n",
       "      <td>F</td>\n",
       "      <td>0.0</td>\n",
       "      <td>0.080725</td>\n",
       "      <td>4.965024e-11</td>\n",
       "      <td>99</td>\n",
       "      <td>0</td>\n",
       "      <td>1</td>\n",
       "    </tr>\n",
       "    <tr>\n",
       "      <th>4</th>\n",
       "      <td>66179</td>\n",
       "      <td>Norma Ayub</td>\n",
       "      <td>55</td>\n",
       "      <td>56</td>\n",
       "      <td>F</td>\n",
       "      <td>0.0</td>\n",
       "      <td>0.046129</td>\n",
       "      <td>4.965024e-11</td>\n",
       "      <td>8</td>\n",
       "      <td>0</td>\n",
       "      <td>1</td>\n",
       "    </tr>\n",
       "    <tr>\n",
       "      <th>...</th>\n",
       "      <td>...</td>\n",
       "      <td>...</td>\n",
       "      <td>...</td>\n",
       "      <td>...</td>\n",
       "      <td>...</td>\n",
       "      <td>...</td>\n",
       "      <td>...</td>\n",
       "      <td>...</td>\n",
       "      <td>...</td>\n",
       "      <td>...</td>\n",
       "      <td>...</td>\n",
       "    </tr>\n",
       "    <tr>\n",
       "      <th>603</th>\n",
       "      <td>200153</td>\n",
       "      <td>PROF. GEDEAO AMORIM</td>\n",
       "      <td>55</td>\n",
       "      <td>55</td>\n",
       "      <td>M</td>\n",
       "      <td>0.0</td>\n",
       "      <td>0.014827</td>\n",
       "      <td>4.965024e-11</td>\n",
       "      <td>6</td>\n",
       "      <td>1</td>\n",
       "      <td>0</td>\n",
       "    </tr>\n",
       "    <tr>\n",
       "      <th>604</th>\n",
       "      <td>202063</td>\n",
       "      <td>OSVALDO MAFRA</td>\n",
       "      <td>55</td>\n",
       "      <td>55</td>\n",
       "      <td>M</td>\n",
       "      <td>0.0</td>\n",
       "      <td>0.011532</td>\n",
       "      <td>4.965024e-11</td>\n",
       "      <td>2</td>\n",
       "      <td>1</td>\n",
       "      <td>0</td>\n",
       "    </tr>\n",
       "    <tr>\n",
       "      <th>605</th>\n",
       "      <td>202915</td>\n",
       "      <td>EURICELIA CARDOSO</td>\n",
       "      <td>55</td>\n",
       "      <td>55</td>\n",
       "      <td>F</td>\n",
       "      <td>0.0</td>\n",
       "      <td>0.006590</td>\n",
       "      <td>4.965024e-11</td>\n",
       "      <td>0</td>\n",
       "      <td>0</td>\n",
       "      <td>1</td>\n",
       "    </tr>\n",
       "    <tr>\n",
       "      <th>606</th>\n",
       "      <td>204011</td>\n",
       "      <td>PROFESSOR PACCO</td>\n",
       "      <td>55</td>\n",
       "      <td>55</td>\n",
       "      <td>M</td>\n",
       "      <td>0.0</td>\n",
       "      <td>0.006590</td>\n",
       "      <td>4.965024e-11</td>\n",
       "      <td>0</td>\n",
       "      <td>1</td>\n",
       "      <td>0</td>\n",
       "    </tr>\n",
       "    <tr>\n",
       "      <th>607</th>\n",
       "      <td>204760</td>\n",
       "      <td>WASHINGTON CORACAO VALENTE</td>\n",
       "      <td>55</td>\n",
       "      <td>55</td>\n",
       "      <td>M</td>\n",
       "      <td>0.0</td>\n",
       "      <td>0.006590</td>\n",
       "      <td>4.965024e-11</td>\n",
       "      <td>0</td>\n",
       "      <td>1</td>\n",
       "      <td>0</td>\n",
       "    </tr>\n",
       "  </tbody>\n",
       "</table>\n",
       "<p>608 rows × 11 columns</p>\n",
       "</div>"
      ],
      "text/plain": [
       "     deputado_id                        nome  idLegislaturaInicial  \\\n",
       "0           4930                SILVIO COSTA                    53   \n",
       "1           4931                IZALCI LUCAS                    53   \n",
       "2          62881                Danilo Forte                    54   \n",
       "3          64960                MARIA HELENA                    52   \n",
       "4          66179                  Norma Ayub                    55   \n",
       "..           ...                         ...                   ...   \n",
       "603       200153         PROF. GEDEAO AMORIM                    55   \n",
       "604       202063               OSVALDO MAFRA                    55   \n",
       "605       202915           EURICELIA CARDOSO                    55   \n",
       "606       204011             PROFESSOR PACCO                    55   \n",
       "607       204760  WASHINGTON CORACAO VALENTE                    55   \n",
       "\n",
       "     idLegislaturaFinal siglaSexo  betweenness_centrality  degree_centrality  \\\n",
       "0                    55         M                     0.0           0.090610   \n",
       "1                    55         M                     0.0           0.090610   \n",
       "2                    56         M                     0.0           0.087315   \n",
       "3                    55         F                     0.0           0.080725   \n",
       "4                    56         F                     0.0           0.046129   \n",
       "..                  ...       ...                     ...                ...   \n",
       "603                  55         M                     0.0           0.014827   \n",
       "604                  55         M                     0.0           0.011532   \n",
       "605                  55         F                     0.0           0.006590   \n",
       "606                  55         M                     0.0           0.006590   \n",
       "607                  55         M                     0.0           0.006590   \n",
       "\n",
       "     eigenvecto_centrality  Frentes  M  F  \n",
       "0             4.965024e-11       63  1  0  \n",
       "1             4.965024e-11      195  1  0  \n",
       "2             4.965024e-11      227  1  0  \n",
       "3             4.965024e-11       99  0  1  \n",
       "4             4.965024e-11        8  0  1  \n",
       "..                     ...      ... .. ..  \n",
       "603           4.965024e-11        6  1  0  \n",
       "604           4.965024e-11        2  1  0  \n",
       "605           4.965024e-11        0  0  1  \n",
       "606           4.965024e-11        0  1  0  \n",
       "607           4.965024e-11        0  1  0  \n",
       "\n",
       "[608 rows x 11 columns]"
      ]
     },
     "execution_count": 25,
     "metadata": {},
     "output_type": "execute_result"
    }
   ],
   "source": [
    "deputados"
   ]
  },
  {
   "cell_type": "markdown",
   "metadata": {},
   "source": [
    "#### Influênca sexo na influência de um deputado"
   ]
  },
  {
   "cell_type": "code",
   "execution_count": 26,
   "metadata": {},
   "outputs": [
    {
     "name": "stdout",
     "output_type": "stream",
     "text": [
      "Optimization terminated successfully.\n",
      "         Current function value: 0.085200\n",
      "         Iterations 8\n"
     ]
    },
    {
     "name": "stderr",
     "output_type": "stream",
     "text": [
      "c:\\users\\duda\\appdata\\local\\programs\\python\\python37-32\\lib\\site-packages\\statsmodels\\discrete\\discrete_model.py:3489: RuntimeWarning:\n",
      "\n",
      "divide by zero encountered in double_scalars\n",
      "\n"
     ]
    },
    {
     "data": {
      "text/html": [
       "<table class=\"simpletable\">\n",
       "<caption>Logit Regression Results</caption>\n",
       "<tr>\n",
       "  <th>Dep. Variable:</th>   <td>eigenvecto_centrality</td> <th>  No. Observations:  </th>  <td>   608</td> \n",
       "</tr>\n",
       "<tr>\n",
       "  <th>Model:</th>                   <td>Logit</td>         <th>  Df Residuals:      </th>  <td>   607</td> \n",
       "</tr>\n",
       "<tr>\n",
       "  <th>Method:</th>                   <td>MLE</td>          <th>  Df Model:          </th>  <td>     0</td> \n",
       "</tr>\n",
       "<tr>\n",
       "  <th>Date:</th>              <td>Fri, 20 Nov 2020</td>    <th>  Pseudo R-squ.:     </th>  <td>   inf</td> \n",
       "</tr>\n",
       "<tr>\n",
       "  <th>Time:</th>                  <td>17:31:06</td>        <th>  Log-Likelihood:    </th> <td> -51.801</td>\n",
       "</tr>\n",
       "<tr>\n",
       "  <th>converged:</th>               <td>True</td>          <th>  LL-Null:           </th> <td>  0.0000</td>\n",
       "</tr>\n",
       "<tr>\n",
       "  <th>Covariance Type:</th>       <td>nonrobust</td>       <th>  LLR p-value:       </th>  <td>   nan</td> \n",
       "</tr>\n",
       "</table>\n",
       "<table class=\"simpletable\">\n",
       "<tr>\n",
       "  <td></td>     <th>coef</th>     <th>std err</th>      <th>z</th>      <th>P>|z|</th>  <th>[0.025</th>    <th>0.975]</th>  \n",
       "</tr>\n",
       "<tr>\n",
       "  <th>M</th> <td>   -4.3015</td> <td>    0.373</td> <td>  -11.543</td> <td> 0.000</td> <td>   -5.032</td> <td>   -3.571</td>\n",
       "</tr>\n",
       "</table>"
      ],
      "text/plain": [
       "<class 'statsmodels.iolib.summary.Summary'>\n",
       "\"\"\"\n",
       "                             Logit Regression Results                            \n",
       "=================================================================================\n",
       "Dep. Variable:     eigenvecto_centrality   No. Observations:                  608\n",
       "Model:                             Logit   Df Residuals:                      607\n",
       "Method:                              MLE   Df Model:                            0\n",
       "Date:                   Fri, 20 Nov 2020   Pseudo R-squ.:                     inf\n",
       "Time:                           17:31:06   Log-Likelihood:                -51.801\n",
       "converged:                          True   LL-Null:                        0.0000\n",
       "Covariance Type:               nonrobust   LLR p-value:                       nan\n",
       "==============================================================================\n",
       "                 coef    std err          z      P>|z|      [0.025      0.975]\n",
       "------------------------------------------------------------------------------\n",
       "M             -4.3015      0.373    -11.543      0.000      -5.032      -3.571\n",
       "==============================================================================\n",
       "\"\"\""
      ]
     },
     "execution_count": 26,
     "metadata": {},
     "output_type": "execute_result"
    }
   ],
   "source": [
    "model = sm.Logit(deputados['eigenvecto_centrality'], deputados[values[:-1]])\n",
    "result = model.fit()\n",
    "result.summary()"
   ]
  },
  {
   "cell_type": "markdown",
   "metadata": {},
   "source": [
    "#### Influência eficiência na inflência de um deputado"
   ]
  },
  {
   "cell_type": "code",
   "execution_count": 27,
   "metadata": {},
   "outputs": [
    {
     "data": {
      "text/html": [
       "<table class=\"simpletable\">\n",
       "<caption>OLS Regression Results</caption>\n",
       "<tr>\n",
       "  <th>Dep. Variable:</th>    <td>eigenvecto_centrality</td> <th>  R-squared (uncentered):</th>      <td>   0.096</td>\n",
       "</tr>\n",
       "<tr>\n",
       "  <th>Model:</th>                     <td>OLS</td>          <th>  Adj. R-squared (uncentered):</th> <td>   0.094</td>\n",
       "</tr>\n",
       "<tr>\n",
       "  <th>Method:</th>               <td>Least Squares</td>     <th>  F-statistic:       </th>          <td>   64.29</td>\n",
       "</tr>\n",
       "<tr>\n",
       "  <th>Date:</th>               <td>Fri, 20 Nov 2020</td>    <th>  Prob (F-statistic):</th>          <td>5.54e-15</td>\n",
       "</tr>\n",
       "<tr>\n",
       "  <th>Time:</th>                   <td>17:31:10</td>        <th>  Log-Likelihood:    </th>          <td>  1116.6</td>\n",
       "</tr>\n",
       "<tr>\n",
       "  <th>No. Observations:</th>        <td>   608</td>         <th>  AIC:               </th>          <td>  -2231.</td>\n",
       "</tr>\n",
       "<tr>\n",
       "  <th>Df Residuals:</th>            <td>   607</td>         <th>  BIC:               </th>          <td>  -2227.</td>\n",
       "</tr>\n",
       "<tr>\n",
       "  <th>Df Model:</th>                <td>     1</td>         <th>                     </th>              <td> </td>   \n",
       "</tr>\n",
       "<tr>\n",
       "  <th>Covariance Type:</th>        <td>nonrobust</td>       <th>                     </th>              <td> </td>   \n",
       "</tr>\n",
       "</table>\n",
       "<table class=\"simpletable\">\n",
       "<tr>\n",
       "     <td></td>        <th>coef</th>     <th>std err</th>      <th>t</th>      <th>P>|t|</th>  <th>[0.025</th>    <th>0.975]</th>  \n",
       "</tr>\n",
       "<tr>\n",
       "  <th>Frentes</th> <td>  8.58e-05</td> <td> 1.07e-05</td> <td>    8.018</td> <td> 0.000</td> <td> 6.48e-05</td> <td>    0.000</td>\n",
       "</tr>\n",
       "</table>\n",
       "<table class=\"simpletable\">\n",
       "<tr>\n",
       "  <th>Omnibus:</th>       <td>337.043</td> <th>  Durbin-Watson:     </th> <td>   1.927</td>\n",
       "</tr>\n",
       "<tr>\n",
       "  <th>Prob(Omnibus):</th> <td> 0.000</td>  <th>  Jarque-Bera (JB):  </th> <td>1597.187</td>\n",
       "</tr>\n",
       "<tr>\n",
       "  <th>Skew:</th>          <td> 2.651</td>  <th>  Prob(JB):          </th> <td>    0.00</td>\n",
       "</tr>\n",
       "<tr>\n",
       "  <th>Kurtosis:</th>      <td> 8.911</td>  <th>  Cond. No.          </th> <td>    1.00</td>\n",
       "</tr>\n",
       "</table><br/><br/>Notes:<br/>[1] R² is computed without centering (uncentered) since the model does not contain a constant.<br/>[2] Standard Errors assume that the covariance matrix of the errors is correctly specified."
      ],
      "text/plain": [
       "<class 'statsmodels.iolib.summary.Summary'>\n",
       "\"\"\"\n",
       "                                  OLS Regression Results                                  \n",
       "==========================================================================================\n",
       "Dep. Variable:     eigenvecto_centrality   R-squared (uncentered):                   0.096\n",
       "Model:                               OLS   Adj. R-squared (uncentered):              0.094\n",
       "Method:                    Least Squares   F-statistic:                              64.29\n",
       "Date:                   Fri, 20 Nov 2020   Prob (F-statistic):                    5.54e-15\n",
       "Time:                           17:31:10   Log-Likelihood:                          1116.6\n",
       "No. Observations:                    608   AIC:                                     -2231.\n",
       "Df Residuals:                        607   BIC:                                     -2227.\n",
       "Df Model:                              1                                                  \n",
       "Covariance Type:               nonrobust                                                  \n",
       "==============================================================================\n",
       "                 coef    std err          t      P>|t|      [0.025      0.975]\n",
       "------------------------------------------------------------------------------\n",
       "Frentes      8.58e-05   1.07e-05      8.018      0.000    6.48e-05       0.000\n",
       "==============================================================================\n",
       "Omnibus:                      337.043   Durbin-Watson:                   1.927\n",
       "Prob(Omnibus):                  0.000   Jarque-Bera (JB):             1597.187\n",
       "Skew:                           2.651   Prob(JB):                         0.00\n",
       "Kurtosis:                       8.911   Cond. No.                         1.00\n",
       "==============================================================================\n",
       "\n",
       "Notes:\n",
       "[1] R² is computed without centering (uncentered) since the model does not contain a constant.\n",
       "[2] Standard Errors assume that the covariance matrix of the errors is correctly specified.\n",
       "\"\"\""
      ]
     },
     "execution_count": 27,
     "metadata": {},
     "output_type": "execute_result"
    }
   ],
   "source": [
    "model = sm.OLS(deputados['eigenvecto_centrality'], deputados[['Frentes']])\n",
    "result = model.fit()\n",
    "result.summary()"
   ]
  },
  {
   "cell_type": "code",
   "execution_count": 28,
   "metadata": {},
   "outputs": [],
   "source": [
    "cor = np.corrcoef(deputados['eigenvecto_centrality'],deputados['degree_centrality'])"
   ]
  },
  {
   "cell_type": "code",
   "execution_count": 29,
   "metadata": {},
   "outputs": [
    {
     "data": {
      "text/plain": [
       "array([[1.        , 0.98913504],\n",
       "       [0.98913504, 1.        ]])"
      ]
     },
     "execution_count": 29,
     "metadata": {},
     "output_type": "execute_result"
    }
   ],
   "source": [
    "cor"
   ]
  },
  {
   "cell_type": "code",
   "execution_count": 30,
   "metadata": {},
   "outputs": [],
   "source": [
    "H = deputados.query('siglaSexo == \"M\"')['eigenvecto_centrality']\n",
    "M = deputados.query('siglaSexo == \"F\"')['eigenvecto_centrality']"
   ]
  },
  {
   "cell_type": "code",
   "execution_count": 31,
   "metadata": {},
   "outputs": [
    {
     "data": {
      "text/html": [
       "<div>\n",
       "<style scoped>\n",
       "    .dataframe tbody tr th:only-of-type {\n",
       "        vertical-align: middle;\n",
       "    }\n",
       "\n",
       "    .dataframe tbody tr th {\n",
       "        vertical-align: top;\n",
       "    }\n",
       "\n",
       "    .dataframe thead tr th {\n",
       "        text-align: left;\n",
       "    }\n",
       "\n",
       "    .dataframe thead tr:last-of-type th {\n",
       "        text-align: right;\n",
       "    }\n",
       "</style>\n",
       "<table border=\"1\" class=\"dataframe\">\n",
       "  <thead>\n",
       "    <tr>\n",
       "      <th></th>\n",
       "      <th colspan=\"8\" halign=\"left\">deputado_id</th>\n",
       "      <th colspan=\"2\" halign=\"left\">idLegislaturaInicial</th>\n",
       "      <th>...</th>\n",
       "      <th colspan=\"2\" halign=\"left\">M</th>\n",
       "      <th colspan=\"8\" halign=\"left\">F</th>\n",
       "    </tr>\n",
       "    <tr>\n",
       "      <th></th>\n",
       "      <th>count</th>\n",
       "      <th>mean</th>\n",
       "      <th>std</th>\n",
       "      <th>min</th>\n",
       "      <th>25%</th>\n",
       "      <th>50%</th>\n",
       "      <th>75%</th>\n",
       "      <th>max</th>\n",
       "      <th>count</th>\n",
       "      <th>mean</th>\n",
       "      <th>...</th>\n",
       "      <th>75%</th>\n",
       "      <th>max</th>\n",
       "      <th>count</th>\n",
       "      <th>mean</th>\n",
       "      <th>std</th>\n",
       "      <th>min</th>\n",
       "      <th>25%</th>\n",
       "      <th>50%</th>\n",
       "      <th>75%</th>\n",
       "      <th>max</th>\n",
       "    </tr>\n",
       "    <tr>\n",
       "      <th>siglaSexo</th>\n",
       "      <th></th>\n",
       "      <th></th>\n",
       "      <th></th>\n",
       "      <th></th>\n",
       "      <th></th>\n",
       "      <th></th>\n",
       "      <th></th>\n",
       "      <th></th>\n",
       "      <th></th>\n",
       "      <th></th>\n",
       "      <th></th>\n",
       "      <th></th>\n",
       "      <th></th>\n",
       "      <th></th>\n",
       "      <th></th>\n",
       "      <th></th>\n",
       "      <th></th>\n",
       "      <th></th>\n",
       "      <th></th>\n",
       "      <th></th>\n",
       "      <th></th>\n",
       "    </tr>\n",
       "  </thead>\n",
       "  <tbody>\n",
       "    <tr>\n",
       "      <th>F</th>\n",
       "      <td>62.0</td>\n",
       "      <td>147608.241935</td>\n",
       "      <td>46170.719957</td>\n",
       "      <td>64960.0</td>\n",
       "      <td>98839.25</td>\n",
       "      <td>175225.5</td>\n",
       "      <td>178945.75</td>\n",
       "      <td>202915.0</td>\n",
       "      <td>62.0</td>\n",
       "      <td>53.919355</td>\n",
       "      <td>...</td>\n",
       "      <td>0.0</td>\n",
       "      <td>0.0</td>\n",
       "      <td>62.0</td>\n",
       "      <td>1.0</td>\n",
       "      <td>0.0</td>\n",
       "      <td>1.0</td>\n",
       "      <td>1.0</td>\n",
       "      <td>1.0</td>\n",
       "      <td>1.0</td>\n",
       "      <td>1.0</td>\n",
       "    </tr>\n",
       "    <tr>\n",
       "      <th>M</th>\n",
       "      <td>546.0</td>\n",
       "      <td>139009.498168</td>\n",
       "      <td>44734.778919</td>\n",
       "      <td>4930.0</td>\n",
       "      <td>74707.00</td>\n",
       "      <td>160535.5</td>\n",
       "      <td>178881.75</td>\n",
       "      <td>204760.0</td>\n",
       "      <td>546.0</td>\n",
       "      <td>53.161172</td>\n",
       "      <td>...</td>\n",
       "      <td>1.0</td>\n",
       "      <td>1.0</td>\n",
       "      <td>546.0</td>\n",
       "      <td>0.0</td>\n",
       "      <td>0.0</td>\n",
       "      <td>0.0</td>\n",
       "      <td>0.0</td>\n",
       "      <td>0.0</td>\n",
       "      <td>0.0</td>\n",
       "      <td>0.0</td>\n",
       "    </tr>\n",
       "  </tbody>\n",
       "</table>\n",
       "<p>2 rows × 72 columns</p>\n",
       "</div>"
      ],
      "text/plain": [
       "          deputado_id                                                  \\\n",
       "                count           mean           std      min       25%   \n",
       "siglaSexo                                                               \n",
       "F                62.0  147608.241935  46170.719957  64960.0  98839.25   \n",
       "M               546.0  139009.498168  44734.778919   4930.0  74707.00   \n",
       "\n",
       "                                         idLegislaturaInicial             ...  \\\n",
       "                50%        75%       max                count       mean  ...   \n",
       "siglaSexo                                                                 ...   \n",
       "F          175225.5  178945.75  202915.0                 62.0  53.919355  ...   \n",
       "M          160535.5  178881.75  204760.0                546.0  53.161172  ...   \n",
       "\n",
       "             M           F                                     \n",
       "           75%  max  count mean  std  min  25%  50%  75%  max  \n",
       "siglaSexo                                                      \n",
       "F          0.0  0.0   62.0  1.0  0.0  1.0  1.0  1.0  1.0  1.0  \n",
       "M          1.0  1.0  546.0  0.0  0.0  0.0  0.0  0.0  0.0  0.0  \n",
       "\n",
       "[2 rows x 72 columns]"
      ]
     },
     "execution_count": 31,
     "metadata": {},
     "output_type": "execute_result"
    }
   ],
   "source": [
    "deputados.groupby('siglaSexo').describe()"
   ]
  },
  {
   "cell_type": "code",
   "execution_count": 34,
   "metadata": {},
   "outputs": [],
   "source": [
    "res = ss.stats.ttest_ind(H, M, equal_var=True)"
   ]
  },
  {
   "cell_type": "code",
   "execution_count": 35,
   "metadata": {},
   "outputs": [
    {
     "data": {
      "text/plain": [
       "Ttest_indResult(statistic=-0.7644941603797848, pvalue=0.44487039484630153)"
      ]
     },
     "execution_count": 35,
     "metadata": {},
     "output_type": "execute_result"
    }
   ],
   "source": [
    "res"
   ]
  },
  {
   "cell_type": "code",
   "execution_count": 38,
   "metadata": {},
   "outputs": [
    {
     "ename": "AttributeError",
     "evalue": "module 'statsmodels.api' has no attribute 'ttest_rel'",
     "output_type": "error",
     "traceback": [
      "\u001b[1;31m---------------------------------------------------------------------------\u001b[0m",
      "\u001b[1;31mAttributeError\u001b[0m                            Traceback (most recent call last)",
      "\u001b[1;32m<ipython-input-38-4eef5cd85eaf>\u001b[0m in \u001b[0;36m<module>\u001b[1;34m\u001b[0m\n\u001b[1;32m----> 1\u001b[1;33m \u001b[0mttest\u001b[0m\u001b[1;33m,\u001b[0m\u001b[0mpval\u001b[0m \u001b[1;33m=\u001b[0m \u001b[0msm\u001b[0m\u001b[1;33m.\u001b[0m\u001b[0mttest_rel\u001b[0m\u001b[1;33m(\u001b[0m\u001b[0mH\u001b[0m\u001b[1;33m,\u001b[0m \u001b[0mM\u001b[0m\u001b[1;33m)\u001b[0m\u001b[1;33m\u001b[0m\u001b[1;33m\u001b[0m\u001b[0m\n\u001b[0m\u001b[0;32m      2\u001b[0m \u001b[0mprint\u001b[0m\u001b[1;33m(\u001b[0m\u001b[1;34m\"p-value\"\u001b[0m\u001b[1;33m,\u001b[0m\u001b[0mpval\u001b[0m\u001b[1;33m)\u001b[0m\u001b[1;33m\u001b[0m\u001b[1;33m\u001b[0m\u001b[0m\n",
      "\u001b[1;31mAttributeError\u001b[0m: module 'statsmodels.api' has no attribute 'ttest_rel'"
     ]
    }
   ],
   "source": [
    "ttest,pval = ss.stats.ttest_rel(H, M)\n",
    "print(\"p-value\",pval)"
   ]
  },
  {
   "cell_type": "code",
   "execution_count": null,
   "metadata": {},
   "outputs": [],
   "source": []
  }
 ],
 "metadata": {
  "kernelspec": {
   "display_name": "Python 3",
   "language": "python",
   "name": "python3"
  },
  "language_info": {
   "codemirror_mode": {
    "name": "ipython",
    "version": 3
   },
   "file_extension": ".py",
   "mimetype": "text/x-python",
   "name": "python",
   "nbconvert_exporter": "python",
   "pygments_lexer": "ipython3",
   "version": "3.7.2"
  }
 },
 "nbformat": 4,
 "nbformat_minor": 2
}
