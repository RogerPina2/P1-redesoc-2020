{
 "cells": [
  {
   "cell_type": "code",
   "execution_count": 28,
   "metadata": {},
   "outputs": [],
   "source": [
    "from csv import reader\n",
    "import numpy as np\n",
    "from unidecode import unidecode\n",
    "import pandas as pd\n",
    "import statsmodels.api as sm\n"
   ]
  },
  {
   "cell_type": "code",
   "execution_count": 29,
   "metadata": {},
   "outputs": [
    {
     "name": "stdout",
     "output_type": "stream",
     "text": [
      "----------------------\n",
      "0.0637437307878984\n",
      "----------------------\n"
     ]
    }
   ],
   "source": [
    "from limpeza import main as limpa\n",
    "from cria_legislatura import main as legislatura\n",
    "from build import main as build\n",
    "from gml_para_rede import main as rede\n",
    "from conta_frentes import main as frentes\n",
    "\n",
    "limpa()\n",
    "legislatura()\n",
    "build()\n",
    "rede()\n",
    "frentes()"
   ]
  },
  {
   "cell_type": "markdown",
   "metadata": {},
   "source": [
    "#### Nesse teste de hipótese estariamos avaliando qual a influência das mulheres nas votações, será que os homens possuem além de maior representativade maior facilidade para aprovação de propostas?"
   ]
  },
  {
   "cell_type": "code",
   "execution_count": 30,
   "metadata": {},
   "outputs": [],
   "source": [
    "deputados = pd.read_csv('ArquivosLimpos/deputados-2015-2018.csv').dropna()"
   ]
  },
  {
   "cell_type": "code",
   "execution_count": 31,
   "metadata": {},
   "outputs": [
    {
     "data": {
      "text/plain": [
       "deputado_id                 int64\n",
       "nome                       object\n",
       "idLegislaturaInicial        int64\n",
       "idLegislaturaFinal          int64\n",
       "siglaSexo                  object\n",
       "betweenness_centrality    float64\n",
       "degree_centrality         float64\n",
       "eigenvecto_centrality     float64\n",
       "Frentes                     int64\n",
       "dtype: object"
      ]
     },
     "execution_count": 31,
     "metadata": {},
     "output_type": "execute_result"
    }
   ],
   "source": [
    "deputados.dtypes"
   ]
  },
  {
   "cell_type": "code",
   "execution_count": 32,
   "metadata": {},
   "outputs": [],
   "source": [
    "values = deputados['siglaSexo'].unique()\n",
    "\n",
    "for value in values[:-1]:\n",
    "    deputados[value] = [1 if v == value else 0 for v in deputados['siglaSexo']]"
   ]
  },
  {
   "cell_type": "code",
   "execution_count": 33,
   "metadata": {},
   "outputs": [],
   "source": [
    "deputados['F'] = deputados['siglaSexo'].apply(lambda value: 1 if value == \"F\" else 0)"
   ]
  },
  {
   "cell_type": "markdown",
   "metadata": {},
   "source": [
    "#### Influênca sexo na influência de um deputado"
   ]
  },
  {
   "cell_type": "code",
   "execution_count": 36,
   "metadata": {},
   "outputs": [
    {
     "name": "stdout",
     "output_type": "stream",
     "text": [
      "Optimization terminated successfully.\n",
      "         Current function value: 0.084777\n",
      "         Iterations 8\n"
     ]
    },
    {
     "name": "stderr",
     "output_type": "stream",
     "text": [
      "c:\\users\\gzkaw\\appdata\\local\\programs\\python\\python38\\lib\\site-packages\\statsmodels\\discrete\\discrete_model.py:3409: RuntimeWarning:\n",
      "\n",
      "divide by zero encountered in double_scalars\n",
      "\n"
     ]
    },
    {
     "data": {
      "text/html": [
       "<table class=\"simpletable\">\n",
       "<caption>Logit Regression Results</caption>\n",
       "<tr>\n",
       "  <th>Dep. Variable:</th>   <td>eigenvecto_centrality</td> <th>  No. Observations:  </th>  <td>   605</td> \n",
       "</tr>\n",
       "<tr>\n",
       "  <th>Model:</th>                   <td>Logit</td>         <th>  Df Residuals:      </th>  <td>   604</td> \n",
       "</tr>\n",
       "<tr>\n",
       "  <th>Method:</th>                   <td>MLE</td>          <th>  Df Model:          </th>  <td>     0</td> \n",
       "</tr>\n",
       "<tr>\n",
       "  <th>Date:</th>              <td>Thu, 19 Nov 2020</td>    <th>  Pseudo R-squ.:     </th>  <td>   inf</td> \n",
       "</tr>\n",
       "<tr>\n",
       "  <th>Time:</th>                  <td>21:01:01</td>        <th>  Log-Likelihood:    </th> <td> -51.290</td>\n",
       "</tr>\n",
       "<tr>\n",
       "  <th>converged:</th>               <td>True</td>          <th>  LL-Null:           </th> <td>  0.0000</td>\n",
       "</tr>\n",
       "<tr>\n",
       "  <th>Covariance Type:</th>       <td>nonrobust</td>       <th>  LLR p-value:       </th>  <td>   nan</td> \n",
       "</tr>\n",
       "</table>\n",
       "<table class=\"simpletable\">\n",
       "<tr>\n",
       "  <td></td>     <th>coef</th>     <th>std err</th>      <th>z</th>      <th>P>|z|</th>  <th>[0.025</th>    <th>0.975]</th>  \n",
       "</tr>\n",
       "<tr>\n",
       "  <th>M</th> <td>   -4.3584</td> <td>    0.384</td> <td>  -11.344</td> <td> 0.000</td> <td>   -5.111</td> <td>   -3.605</td>\n",
       "</tr>\n",
       "</table>"
      ],
      "text/plain": [
       "<class 'statsmodels.iolib.summary.Summary'>\n",
       "\"\"\"\n",
       "                             Logit Regression Results                            \n",
       "=================================================================================\n",
       "Dep. Variable:     eigenvecto_centrality   No. Observations:                  605\n",
       "Model:                             Logit   Df Residuals:                      604\n",
       "Method:                              MLE   Df Model:                            0\n",
       "Date:                   Thu, 19 Nov 2020   Pseudo R-squ.:                     inf\n",
       "Time:                           21:01:01   Log-Likelihood:                -51.290\n",
       "converged:                          True   LL-Null:                        0.0000\n",
       "Covariance Type:               nonrobust   LLR p-value:                       nan\n",
       "==============================================================================\n",
       "                 coef    std err          z      P>|z|      [0.025      0.975]\n",
       "------------------------------------------------------------------------------\n",
       "M             -4.3584      0.384    -11.344      0.000      -5.111      -3.605\n",
       "==============================================================================\n",
       "\"\"\""
      ]
     },
     "execution_count": 36,
     "metadata": {},
     "output_type": "execute_result"
    }
   ],
   "source": [
    "model = sm.Logit(deputados['eigenvecto_centrality'], deputados[values[:-1]])\n",
    "result = model.fit()\n",
    "result.summary()"
   ]
  },
  {
   "cell_type": "markdown",
   "metadata": {},
   "source": [
    "#### Influência eficiência na inflência de um deputado"
   ]
  },
  {
   "cell_type": "code",
   "execution_count": 35,
   "metadata": {},
   "outputs": [
    {
     "data": {
      "text/html": [
       "<table class=\"simpletable\">\n",
       "<caption>OLS Regression Results</caption>\n",
       "<tr>\n",
       "  <th>Dep. Variable:</th>    <td>eigenvecto_centrality</td> <th>  R-squared (uncentered):</th>      <td>   0.087</td>\n",
       "</tr>\n",
       "<tr>\n",
       "  <th>Model:</th>                     <td>OLS</td>          <th>  Adj. R-squared (uncentered):</th> <td>   0.086</td>\n",
       "</tr>\n",
       "<tr>\n",
       "  <th>Method:</th>               <td>Least Squares</td>     <th>  F-statistic:       </th>          <td>   57.86</td>\n",
       "</tr>\n",
       "<tr>\n",
       "  <th>Date:</th>               <td>Thu, 19 Nov 2020</td>    <th>  Prob (F-statistic):</th>          <td>1.08e-13</td>\n",
       "</tr>\n",
       "<tr>\n",
       "  <th>Time:</th>                   <td>21:01:01</td>        <th>  Log-Likelihood:    </th>          <td>  1106.8</td>\n",
       "</tr>\n",
       "<tr>\n",
       "  <th>No. Observations:</th>        <td>   605</td>         <th>  AIC:               </th>          <td>  -2212.</td>\n",
       "</tr>\n",
       "<tr>\n",
       "  <th>Df Residuals:</th>            <td>   604</td>         <th>  BIC:               </th>          <td>  -2207.</td>\n",
       "</tr>\n",
       "<tr>\n",
       "  <th>Df Model:</th>                <td>     1</td>         <th>                     </th>              <td> </td>   \n",
       "</tr>\n",
       "<tr>\n",
       "  <th>Covariance Type:</th>        <td>nonrobust</td>       <th>                     </th>              <td> </td>   \n",
       "</tr>\n",
       "</table>\n",
       "<table class=\"simpletable\">\n",
       "<tr>\n",
       "     <td></td>        <th>coef</th>     <th>std err</th>      <th>t</th>      <th>P>|t|</th>  <th>[0.025</th>    <th>0.975]</th>  \n",
       "</tr>\n",
       "<tr>\n",
       "  <th>Frentes</th> <td> 8.197e-05</td> <td> 1.08e-05</td> <td>    7.607</td> <td> 0.000</td> <td> 6.08e-05</td> <td>    0.000</td>\n",
       "</tr>\n",
       "</table>\n",
       "<table class=\"simpletable\">\n",
       "<tr>\n",
       "  <th>Omnibus:</th>       <td>413.364</td> <th>  Durbin-Watson:     </th> <td>   1.951</td>\n",
       "</tr>\n",
       "<tr>\n",
       "  <th>Prob(Omnibus):</th> <td> 0.000</td>  <th>  Jarque-Bera (JB):  </th> <td>3303.966</td>\n",
       "</tr>\n",
       "<tr>\n",
       "  <th>Skew:</th>          <td> 3.160</td>  <th>  Prob(JB):          </th> <td>    0.00</td>\n",
       "</tr>\n",
       "<tr>\n",
       "  <th>Kurtosis:</th>      <td>12.546</td>  <th>  Cond. No.          </th> <td>    1.00</td>\n",
       "</tr>\n",
       "</table><br/><br/>Warnings:<br/>[1] Standard Errors assume that the covariance matrix of the errors is correctly specified."
      ],
      "text/plain": [
       "<class 'statsmodels.iolib.summary.Summary'>\n",
       "\"\"\"\n",
       "                                  OLS Regression Results                                  \n",
       "==========================================================================================\n",
       "Dep. Variable:     eigenvecto_centrality   R-squared (uncentered):                   0.087\n",
       "Model:                               OLS   Adj. R-squared (uncentered):              0.086\n",
       "Method:                    Least Squares   F-statistic:                              57.86\n",
       "Date:                   Thu, 19 Nov 2020   Prob (F-statistic):                    1.08e-13\n",
       "Time:                           21:01:01   Log-Likelihood:                          1106.8\n",
       "No. Observations:                    605   AIC:                                     -2212.\n",
       "Df Residuals:                        604   BIC:                                     -2207.\n",
       "Df Model:                              1                                                  \n",
       "Covariance Type:               nonrobust                                                  \n",
       "==============================================================================\n",
       "                 coef    std err          t      P>|t|      [0.025      0.975]\n",
       "------------------------------------------------------------------------------\n",
       "Frentes     8.197e-05   1.08e-05      7.607      0.000    6.08e-05       0.000\n",
       "==============================================================================\n",
       "Omnibus:                      413.364   Durbin-Watson:                   1.951\n",
       "Prob(Omnibus):                  0.000   Jarque-Bera (JB):             3303.966\n",
       "Skew:                           3.160   Prob(JB):                         0.00\n",
       "Kurtosis:                      12.546   Cond. No.                         1.00\n",
       "==============================================================================\n",
       "\n",
       "Warnings:\n",
       "[1] Standard Errors assume that the covariance matrix of the errors is correctly specified.\n",
       "\"\"\""
      ]
     },
     "execution_count": 35,
     "metadata": {},
     "output_type": "execute_result"
    }
   ],
   "source": [
    "model = sm.OLS(deputados['eigenvecto_centrality'], deputados[['Frentes']])\n",
    "result = model.fit()\n",
    "result.summary()"
   ]
  },
  {
   "cell_type": "code",
   "execution_count": 35,
   "metadata": {},
   "outputs": [],
   "source": [
    "cor = np.corrcoef(deputados['eigenvecto_centrality'],deputados['degree_centrality'])"
   ]
  },
  {
   "cell_type": "code",
   "execution_count": 36,
   "metadata": {},
   "outputs": [
    {
     "data": {
      "text/plain": [
       "array([[1.       , 0.9868196],\n",
       "       [0.9868196, 1.       ]])"
      ]
     },
     "execution_count": 36,
     "metadata": {},
     "output_type": "execute_result"
    }
   ],
   "source": [
    "cor"
   ]
  }
 ],
 "metadata": {
  "kernelspec": {
   "display_name": "Python 3",
   "language": "python",
   "name": "python3"
  },
  "language_info": {
   "codemirror_mode": {
    "name": "ipython",
    "version": 3
   },
   "file_extension": ".py",
   "mimetype": "text/x-python",
   "name": "python",
   "nbconvert_exporter": "python",
   "pygments_lexer": "ipython3",
   "version": "3.8.2"
  }
 },
 "nbformat": 4,
 "nbformat_minor": 2
}
