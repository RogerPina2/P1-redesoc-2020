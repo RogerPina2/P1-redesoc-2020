{
 "cells": [
  {
   "cell_type": "code",
   "execution_count": 156,
   "metadata": {},
   "outputs": [],
   "source": [
    "from csv import reader\n",
    "import numpy as np\n",
    "from unidecode import unidecode\n",
    "import pandas as pd\n",
    "import statsmodels.api as sm\n"
   ]
  },
  {
   "cell_type": "markdown",
   "metadata": {},
   "source": [
    "#### Nesse teste de hipótese estariamos avaliando qual a influência das mulheres nas votações, será que os homens possuem além de maior representativade maior facilidade para aprovação de propostas?"
   ]
  },
  {
   "cell_type": "code",
   "execution_count": 157,
   "metadata": {},
   "outputs": [],
   "source": [
    "deputados = pd.read_csv('ArquivosLimpos/deputados-2019.csv').dropna()"
   ]
  },
  {
   "cell_type": "code",
   "execution_count": 158,
   "metadata": {},
   "outputs": [
    {
     "data": {
      "text/plain": [
       "Unnamed: 0                  int64\n",
       "Unnamed: 0.1                int64\n",
       "deputado_id                 int64\n",
       "idLegislaturaInicial        int64\n",
       "idLegislaturaFinal          int64\n",
       "siglaSexo                  object\n",
       "ufNascimento               object\n",
       "betweenness_centrality    float64\n",
       "eigenvecto_centrality     float64\n",
       "dtype: object"
      ]
     },
     "execution_count": 158,
     "metadata": {},
     "output_type": "execute_result"
    }
   ],
   "source": [
    "deputados.dtypes"
   ]
  },
  {
   "cell_type": "code",
   "execution_count": 159,
   "metadata": {},
   "outputs": [],
   "source": [
    "votacoes = pd.read_csv('ArquivosLimpos/votacoes-2019.csv').dropna()"
   ]
  },
  {
   "cell_type": "code",
   "execution_count": 160,
   "metadata": {},
   "outputs": [
    {
     "data": {
      "text/plain": [
       "Unnamed: 0                                     int64\n",
       "id                                            object\n",
       "idOrgao                                        int64\n",
       "idEvento                                       int64\n",
       "aprovacao                                    float64\n",
       "votosSim                                       int64\n",
       "votosNao                                       int64\n",
       "votosOutros                                    int64\n",
       "ultimaApresentacaoProposicao_idProposicao      int64\n",
       "dtype: object"
      ]
     },
     "execution_count": 160,
     "metadata": {},
     "output_type": "execute_result"
    }
   ],
   "source": [
    "votacoes.dtypes"
   ]
  },
  {
   "cell_type": "code",
   "execution_count": 161,
   "metadata": {},
   "outputs": [],
   "source": [
    "votos = pd.read_csv('ArquivosLimpos/votacoesVotos-2019.csv').dropna()"
   ]
  },
  {
   "cell_type": "code",
   "execution_count": 162,
   "metadata": {},
   "outputs": [
    {
     "data": {
      "text/plain": [
       "Unnamed: 0                int64\n",
       "idVotacao                object\n",
       "voto                      int64\n",
       "deputado_id               int64\n",
       "deputado_siglaPartido    object\n",
       "pardido_id                int64\n",
       "deputado_siglaUf         object\n",
       "dtype: object"
      ]
     },
     "execution_count": 162,
     "metadata": {},
     "output_type": "execute_result"
    }
   ],
   "source": [
    "votos.dtypes"
   ]
  },
  {
   "cell_type": "code",
   "execution_count": 163,
   "metadata": {},
   "outputs": [],
   "source": [
    "proposicoes = pd.read_csv('ArquivosLimpos/proposicoesAutores-2019.csv').dropna()"
   ]
  },
  {
   "cell_type": "code",
   "execution_count": 164,
   "metadata": {},
   "outputs": [],
   "source": [
    "data_dep_prop = pd.merge(deputados, proposicoes, left_on='deputado_id', right_on='idDeputadoAutor')"
   ]
  },
  {
   "cell_type": "code",
   "execution_count": 165,
   "metadata": {},
   "outputs": [],
   "source": [
    "data_voto_vota = pd.merge(votacoes,votos, left_on='id', right_on='idVotacao')"
   ]
  },
  {
   "cell_type": "code",
   "execution_count": 166,
   "metadata": {},
   "outputs": [],
   "source": [
    " data= pd.merge(data_dep_prop,votacoes, left_on='idProposicao', right_on='ultimaApresentacaoProposicao_idProposicao')"
   ]
  },
  {
   "cell_type": "code",
   "execution_count": null,
   "metadata": {},
   "outputs": [],
   "source": []
  },
  {
   "cell_type": "code",
   "execution_count": 167,
   "metadata": {},
   "outputs": [
    {
     "data": {
      "text/html": [
       "<div>\n",
       "<style scoped>\n",
       "    .dataframe tbody tr th:only-of-type {\n",
       "        vertical-align: middle;\n",
       "    }\n",
       "\n",
       "    .dataframe tbody tr th {\n",
       "        vertical-align: top;\n",
       "    }\n",
       "\n",
       "    .dataframe thead th {\n",
       "        text-align: right;\n",
       "    }\n",
       "</style>\n",
       "<table border=\"1\" class=\"dataframe\">\n",
       "  <thead>\n",
       "    <tr style=\"text-align: right;\">\n",
       "      <th></th>\n",
       "      <th>Unnamed: 0_x</th>\n",
       "      <th>Unnamed: 0.1</th>\n",
       "      <th>deputado_id</th>\n",
       "      <th>idLegislaturaInicial</th>\n",
       "      <th>idLegislaturaFinal</th>\n",
       "      <th>siglaSexo</th>\n",
       "      <th>ufNascimento</th>\n",
       "      <th>betweenness_centrality</th>\n",
       "      <th>eigenvecto_centrality</th>\n",
       "      <th>Unnamed: 0_y</th>\n",
       "      <th>idProposicao</th>\n",
       "      <th>idDeputadoAutor</th>\n",
       "    </tr>\n",
       "  </thead>\n",
       "  <tbody>\n",
       "    <tr>\n",
       "      <th>0</th>\n",
       "      <td>8</td>\n",
       "      <td>2842</td>\n",
       "      <td>66179</td>\n",
       "      <td>55</td>\n",
       "      <td>56</td>\n",
       "      <td>F</td>\n",
       "      <td>ES</td>\n",
       "      <td>0.0</td>\n",
       "      <td>3.907493e-11</td>\n",
       "      <td>1553</td>\n",
       "      <td>2233724</td>\n",
       "      <td>66179.0</td>\n",
       "    </tr>\n",
       "    <tr>\n",
       "      <th>1</th>\n",
       "      <td>8</td>\n",
       "      <td>2842</td>\n",
       "      <td>66179</td>\n",
       "      <td>55</td>\n",
       "      <td>56</td>\n",
       "      <td>F</td>\n",
       "      <td>ES</td>\n",
       "      <td>0.0</td>\n",
       "      <td>3.907493e-11</td>\n",
       "      <td>3528</td>\n",
       "      <td>2231834</td>\n",
       "      <td>66179.0</td>\n",
       "    </tr>\n",
       "    <tr>\n",
       "      <th>2</th>\n",
       "      <td>8</td>\n",
       "      <td>2842</td>\n",
       "      <td>66179</td>\n",
       "      <td>55</td>\n",
       "      <td>56</td>\n",
       "      <td>F</td>\n",
       "      <td>ES</td>\n",
       "      <td>0.0</td>\n",
       "      <td>3.907493e-11</td>\n",
       "      <td>3529</td>\n",
       "      <td>2231833</td>\n",
       "      <td>66179.0</td>\n",
       "    </tr>\n",
       "    <tr>\n",
       "      <th>3</th>\n",
       "      <td>8</td>\n",
       "      <td>2842</td>\n",
       "      <td>66179</td>\n",
       "      <td>55</td>\n",
       "      <td>56</td>\n",
       "      <td>F</td>\n",
       "      <td>ES</td>\n",
       "      <td>0.0</td>\n",
       "      <td>3.907493e-11</td>\n",
       "      <td>3614</td>\n",
       "      <td>2231756</td>\n",
       "      <td>66179.0</td>\n",
       "    </tr>\n",
       "    <tr>\n",
       "      <th>4</th>\n",
       "      <td>8</td>\n",
       "      <td>2842</td>\n",
       "      <td>66179</td>\n",
       "      <td>55</td>\n",
       "      <td>56</td>\n",
       "      <td>F</td>\n",
       "      <td>ES</td>\n",
       "      <td>0.0</td>\n",
       "      <td>3.907493e-11</td>\n",
       "      <td>12419</td>\n",
       "      <td>2224878</td>\n",
       "      <td>66179.0</td>\n",
       "    </tr>\n",
       "  </tbody>\n",
       "</table>\n",
       "</div>"
      ],
      "text/plain": [
       "   Unnamed: 0_x  Unnamed: 0.1  deputado_id  idLegislaturaInicial  \\\n",
       "0             8          2842        66179                    55   \n",
       "1             8          2842        66179                    55   \n",
       "2             8          2842        66179                    55   \n",
       "3             8          2842        66179                    55   \n",
       "4             8          2842        66179                    55   \n",
       "\n",
       "   idLegislaturaFinal siglaSexo ufNascimento  betweenness_centrality  \\\n",
       "0                  56         F           ES                     0.0   \n",
       "1                  56         F           ES                     0.0   \n",
       "2                  56         F           ES                     0.0   \n",
       "3                  56         F           ES                     0.0   \n",
       "4                  56         F           ES                     0.0   \n",
       "\n",
       "   eigenvecto_centrality  Unnamed: 0_y  idProposicao  idDeputadoAutor  \n",
       "0           3.907493e-11          1553       2233724          66179.0  \n",
       "1           3.907493e-11          3528       2231834          66179.0  \n",
       "2           3.907493e-11          3529       2231833          66179.0  \n",
       "3           3.907493e-11          3614       2231756          66179.0  \n",
       "4           3.907493e-11         12419       2224878          66179.0  "
      ]
     },
     "execution_count": 167,
     "metadata": {},
     "output_type": "execute_result"
    }
   ],
   "source": [
    "data_dep_prop.head()\n"
   ]
  },
  {
   "cell_type": "code",
   "execution_count": 168,
   "metadata": {},
   "outputs": [
    {
     "data": {
      "text/html": [
       "<div>\n",
       "<style scoped>\n",
       "    .dataframe tbody tr th:only-of-type {\n",
       "        vertical-align: middle;\n",
       "    }\n",
       "\n",
       "    .dataframe tbody tr th {\n",
       "        vertical-align: top;\n",
       "    }\n",
       "\n",
       "    .dataframe thead th {\n",
       "        text-align: right;\n",
       "    }\n",
       "</style>\n",
       "<table border=\"1\" class=\"dataframe\">\n",
       "  <thead>\n",
       "    <tr style=\"text-align: right;\">\n",
       "      <th></th>\n",
       "      <th>Unnamed: 0_x</th>\n",
       "      <th>Unnamed: 0.1</th>\n",
       "      <th>deputado_id</th>\n",
       "      <th>idLegislaturaInicial</th>\n",
       "      <th>idLegislaturaFinal</th>\n",
       "      <th>siglaSexo</th>\n",
       "      <th>ufNascimento</th>\n",
       "      <th>betweenness_centrality</th>\n",
       "      <th>eigenvecto_centrality</th>\n",
       "      <th>Unnamed: 0_y</th>\n",
       "      <th>...</th>\n",
       "      <th>idDeputadoAutor</th>\n",
       "      <th>Unnamed: 0</th>\n",
       "      <th>id</th>\n",
       "      <th>idOrgao</th>\n",
       "      <th>idEvento</th>\n",
       "      <th>aprovacao</th>\n",
       "      <th>votosSim</th>\n",
       "      <th>votosNao</th>\n",
       "      <th>votosOutros</th>\n",
       "      <th>ultimaApresentacaoProposicao_idProposicao</th>\n",
       "    </tr>\n",
       "  </thead>\n",
       "  <tbody>\n",
       "    <tr>\n",
       "      <th>0</th>\n",
       "      <td>8</td>\n",
       "      <td>2842</td>\n",
       "      <td>66179</td>\n",
       "      <td>55</td>\n",
       "      <td>56</td>\n",
       "      <td>F</td>\n",
       "      <td>ES</td>\n",
       "      <td>0.0</td>\n",
       "      <td>3.907493e-11</td>\n",
       "      <td>58184</td>\n",
       "      <td>...</td>\n",
       "      <td>66179.0</td>\n",
       "      <td>4769</td>\n",
       "      <td>2200728-26</td>\n",
       "      <td>537870</td>\n",
       "      <td>56863</td>\n",
       "      <td>1.0</td>\n",
       "      <td>0</td>\n",
       "      <td>0</td>\n",
       "      <td>0</td>\n",
       "      <td>2214248</td>\n",
       "    </tr>\n",
       "    <tr>\n",
       "      <th>1</th>\n",
       "      <td>8</td>\n",
       "      <td>2842</td>\n",
       "      <td>66179</td>\n",
       "      <td>55</td>\n",
       "      <td>56</td>\n",
       "      <td>F</td>\n",
       "      <td>ES</td>\n",
       "      <td>0.0</td>\n",
       "      <td>3.907493e-11</td>\n",
       "      <td>115951</td>\n",
       "      <td>...</td>\n",
       "      <td>66179.0</td>\n",
       "      <td>2142</td>\n",
       "      <td>2187314-25</td>\n",
       "      <td>2006</td>\n",
       "      <td>55575</td>\n",
       "      <td>1.0</td>\n",
       "      <td>0</td>\n",
       "      <td>0</td>\n",
       "      <td>0</td>\n",
       "      <td>2200839</td>\n",
       "    </tr>\n",
       "    <tr>\n",
       "      <th>2</th>\n",
       "      <td>9</td>\n",
       "      <td>2845</td>\n",
       "      <td>66828</td>\n",
       "      <td>55</td>\n",
       "      <td>56</td>\n",
       "      <td>M</td>\n",
       "      <td>SP</td>\n",
       "      <td>0.0</td>\n",
       "      <td>3.907493e-11</td>\n",
       "      <td>2407</td>\n",
       "      <td>...</td>\n",
       "      <td>66828.0</td>\n",
       "      <td>8439</td>\n",
       "      <td>2218910-21</td>\n",
       "      <td>2001</td>\n",
       "      <td>58868</td>\n",
       "      <td>1.0</td>\n",
       "      <td>0</td>\n",
       "      <td>0</td>\n",
       "      <td>0</td>\n",
       "      <td>2232899</td>\n",
       "    </tr>\n",
       "    <tr>\n",
       "      <th>3</th>\n",
       "      <td>9</td>\n",
       "      <td>2845</td>\n",
       "      <td>66828</td>\n",
       "      <td>55</td>\n",
       "      <td>56</td>\n",
       "      <td>M</td>\n",
       "      <td>SP</td>\n",
       "      <td>0.0</td>\n",
       "      <td>3.907493e-11</td>\n",
       "      <td>58179</td>\n",
       "      <td>...</td>\n",
       "      <td>66828.0</td>\n",
       "      <td>5506</td>\n",
       "      <td>2204001-26</td>\n",
       "      <td>2001</td>\n",
       "      <td>57249</td>\n",
       "      <td>1.0</td>\n",
       "      <td>0</td>\n",
       "      <td>0</td>\n",
       "      <td>0</td>\n",
       "      <td>2214253</td>\n",
       "    </tr>\n",
       "    <tr>\n",
       "      <th>4</th>\n",
       "      <td>9</td>\n",
       "      <td>2845</td>\n",
       "      <td>66828</td>\n",
       "      <td>55</td>\n",
       "      <td>56</td>\n",
       "      <td>M</td>\n",
       "      <td>SP</td>\n",
       "      <td>0.0</td>\n",
       "      <td>3.907493e-11</td>\n",
       "      <td>110109</td>\n",
       "      <td>...</td>\n",
       "      <td>66828.0</td>\n",
       "      <td>3559</td>\n",
       "      <td>2190989-25</td>\n",
       "      <td>2001</td>\n",
       "      <td>56277</td>\n",
       "      <td>1.0</td>\n",
       "      <td>0</td>\n",
       "      <td>0</td>\n",
       "      <td>0</td>\n",
       "      <td>2204198</td>\n",
       "    </tr>\n",
       "  </tbody>\n",
       "</table>\n",
       "<p>5 rows × 21 columns</p>\n",
       "</div>"
      ],
      "text/plain": [
       "   Unnamed: 0_x  Unnamed: 0.1  deputado_id  idLegislaturaInicial  \\\n",
       "0             8          2842        66179                    55   \n",
       "1             8          2842        66179                    55   \n",
       "2             9          2845        66828                    55   \n",
       "3             9          2845        66828                    55   \n",
       "4             9          2845        66828                    55   \n",
       "\n",
       "   idLegislaturaFinal siglaSexo ufNascimento  betweenness_centrality  \\\n",
       "0                  56         F           ES                     0.0   \n",
       "1                  56         F           ES                     0.0   \n",
       "2                  56         M           SP                     0.0   \n",
       "3                  56         M           SP                     0.0   \n",
       "4                  56         M           SP                     0.0   \n",
       "\n",
       "   eigenvecto_centrality  Unnamed: 0_y  ...  idDeputadoAutor  Unnamed: 0  \\\n",
       "0           3.907493e-11         58184  ...          66179.0        4769   \n",
       "1           3.907493e-11        115951  ...          66179.0        2142   \n",
       "2           3.907493e-11          2407  ...          66828.0        8439   \n",
       "3           3.907493e-11         58179  ...          66828.0        5506   \n",
       "4           3.907493e-11        110109  ...          66828.0        3559   \n",
       "\n",
       "           id idOrgao  idEvento  aprovacao  votosSim  votosNao  votosOutros  \\\n",
       "0  2200728-26  537870     56863        1.0         0         0            0   \n",
       "1  2187314-25    2006     55575        1.0         0         0            0   \n",
       "2  2218910-21    2001     58868        1.0         0         0            0   \n",
       "3  2204001-26    2001     57249        1.0         0         0            0   \n",
       "4  2190989-25    2001     56277        1.0         0         0            0   \n",
       "\n",
       "   ultimaApresentacaoProposicao_idProposicao  \n",
       "0                                    2214248  \n",
       "1                                    2200839  \n",
       "2                                    2232899  \n",
       "3                                    2214253  \n",
       "4                                    2204198  \n",
       "\n",
       "[5 rows x 21 columns]"
      ]
     },
     "execution_count": 168,
     "metadata": {},
     "output_type": "execute_result"
    }
   ],
   "source": [
    "data.head()"
   ]
  },
  {
   "cell_type": "code",
   "execution_count": 169,
   "metadata": {},
   "outputs": [],
   "source": [
    "data1= data.idProposicao.value_counts().head(5)"
   ]
  },
  {
   "cell_type": "code",
   "execution_count": 170,
   "metadata": {},
   "outputs": [],
   "source": [
    "data2= data.aprovacao.value_counts().head(5)"
   ]
  },
  {
   "cell_type": "code",
   "execution_count": 177,
   "metadata": {},
   "outputs": [],
   "source": [
    "values = deputados['siglaSexo'].unique()\n",
    "\n",
    "for value in values[:-1]:\n",
    "    deputados[value] = [1 if v == value else 0 for v in deputados['siglaSexo']]"
   ]
  },
  {
   "cell_type": "code",
   "execution_count": 178,
   "metadata": {},
   "outputs": [
    {
     "data": {
      "text/html": [
       "<div>\n",
       "<style scoped>\n",
       "    .dataframe tbody tr th:only-of-type {\n",
       "        vertical-align: middle;\n",
       "    }\n",
       "\n",
       "    .dataframe tbody tr th {\n",
       "        vertical-align: top;\n",
       "    }\n",
       "\n",
       "    .dataframe thead th {\n",
       "        text-align: right;\n",
       "    }\n",
       "</style>\n",
       "<table border=\"1\" class=\"dataframe\">\n",
       "  <thead>\n",
       "    <tr style=\"text-align: right;\">\n",
       "      <th></th>\n",
       "      <th>F</th>\n",
       "    </tr>\n",
       "  </thead>\n",
       "  <tbody>\n",
       "    <tr>\n",
       "      <th>0</th>\n",
       "      <td>1</td>\n",
       "    </tr>\n",
       "    <tr>\n",
       "      <th>1</th>\n",
       "      <td>0</td>\n",
       "    </tr>\n",
       "    <tr>\n",
       "      <th>2</th>\n",
       "      <td>1</td>\n",
       "    </tr>\n",
       "    <tr>\n",
       "      <th>3</th>\n",
       "      <td>0</td>\n",
       "    </tr>\n",
       "    <tr>\n",
       "      <th>4</th>\n",
       "      <td>0</td>\n",
       "    </tr>\n",
       "    <tr>\n",
       "      <th>...</th>\n",
       "      <td>...</td>\n",
       "    </tr>\n",
       "    <tr>\n",
       "      <th>449</th>\n",
       "      <td>0</td>\n",
       "    </tr>\n",
       "    <tr>\n",
       "      <th>450</th>\n",
       "      <td>0</td>\n",
       "    </tr>\n",
       "    <tr>\n",
       "      <th>451</th>\n",
       "      <td>0</td>\n",
       "    </tr>\n",
       "    <tr>\n",
       "      <th>452</th>\n",
       "      <td>0</td>\n",
       "    </tr>\n",
       "    <tr>\n",
       "      <th>453</th>\n",
       "      <td>0</td>\n",
       "    </tr>\n",
       "  </tbody>\n",
       "</table>\n",
       "<p>453 rows × 1 columns</p>\n",
       "</div>"
      ],
      "text/plain": [
       "     F\n",
       "0    1\n",
       "1    0\n",
       "2    1\n",
       "3    0\n",
       "4    0\n",
       "..  ..\n",
       "449  0\n",
       "450  0\n",
       "451  0\n",
       "452  0\n",
       "453  0\n",
       "\n",
       "[453 rows x 1 columns]"
      ]
     },
     "execution_count": 178,
     "metadata": {},
     "output_type": "execute_result"
    }
   ],
   "source": [
    "deputados[values[:-1]]"
   ]
  },
  {
   "cell_type": "markdown",
   "metadata": {},
   "source": [
    "#### Influênca sexo na influência de um deputado"
   ]
  },
  {
   "cell_type": "code",
   "execution_count": 179,
   "metadata": {},
   "outputs": [
    {
     "name": "stdout",
     "output_type": "stream",
     "text": [
      "Optimization terminated successfully.\n",
      "         Current function value: 0.589565\n",
      "         Iterations 9\n"
     ]
    },
    {
     "name": "stderr",
     "output_type": "stream",
     "text": [
      "c:\\users\\duda\\appdata\\local\\programs\\python\\python37-32\\lib\\site-packages\\statsmodels\\discrete\\discrete_model.py:3489: RuntimeWarning: divide by zero encountered in double_scalars\n",
      "  return 1 - self.llf/self.llnull\n"
     ]
    },
    {
     "data": {
      "text/html": [
       "<table class=\"simpletable\">\n",
       "<caption>Logit Regression Results</caption>\n",
       "<tr>\n",
       "  <th>Dep. Variable:</th>   <td>eigenvecto_centrality</td> <th>  No. Observations:  </th>  <td>   453</td> \n",
       "</tr>\n",
       "<tr>\n",
       "  <th>Model:</th>                   <td>Logit</td>         <th>  Df Residuals:      </th>  <td>   452</td> \n",
       "</tr>\n",
       "<tr>\n",
       "  <th>Method:</th>                   <td>MLE</td>          <th>  Df Model:          </th>  <td>     0</td> \n",
       "</tr>\n",
       "<tr>\n",
       "  <th>Date:</th>              <td>Wed, 04 Nov 2020</td>    <th>  Pseudo R-squ.:     </th>  <td>   inf</td> \n",
       "</tr>\n",
       "<tr>\n",
       "  <th>Time:</th>                  <td>21:15:59</td>        <th>  Log-Likelihood:    </th> <td> -267.07</td>\n",
       "</tr>\n",
       "<tr>\n",
       "  <th>converged:</th>               <td>True</td>          <th>  LL-Null:           </th> <td>  0.0000</td>\n",
       "</tr>\n",
       "<tr>\n",
       "  <th>Covariance Type:</th>       <td>nonrobust</td>       <th>  LLR p-value:       </th>  <td>   nan</td> \n",
       "</tr>\n",
       "</table>\n",
       "<table class=\"simpletable\">\n",
       "<tr>\n",
       "  <td></td>     <th>coef</th>     <th>std err</th>      <th>z</th>      <th>P>|z|</th>  <th>[0.025</th>    <th>0.975]</th>  \n",
       "</tr>\n",
       "<tr>\n",
       "  <th>F</th> <td>   -4.6500</td> <td>    1.243</td> <td>   -3.741</td> <td> 0.000</td> <td>   -7.086</td> <td>   -2.214</td>\n",
       "</tr>\n",
       "</table>"
      ],
      "text/plain": [
       "<class 'statsmodels.iolib.summary.Summary'>\n",
       "\"\"\"\n",
       "                             Logit Regression Results                            \n",
       "=================================================================================\n",
       "Dep. Variable:     eigenvecto_centrality   No. Observations:                  453\n",
       "Model:                             Logit   Df Residuals:                      452\n",
       "Method:                              MLE   Df Model:                            0\n",
       "Date:                   Wed, 04 Nov 2020   Pseudo R-squ.:                     inf\n",
       "Time:                           21:15:59   Log-Likelihood:                -267.07\n",
       "converged:                          True   LL-Null:                        0.0000\n",
       "Covariance Type:               nonrobust   LLR p-value:                       nan\n",
       "==============================================================================\n",
       "                 coef    std err          z      P>|z|      [0.025      0.975]\n",
       "------------------------------------------------------------------------------\n",
       "F             -4.6500      1.243     -3.741      0.000      -7.086      -2.214\n",
       "==============================================================================\n",
       "\"\"\""
      ]
     },
     "execution_count": 179,
     "metadata": {},
     "output_type": "execute_result"
    }
   ],
   "source": [
    "model = sm.Logit(deputados['eigenvecto_centrality'], deputados[values[:-1]])\n",
    "result = model.fit()\n",
    "result.summary()"
   ]
  },
  {
   "cell_type": "markdown",
   "metadata": {},
   "source": [
    "#### Influência eficiência na inflência de um deputado"
   ]
  },
  {
   "cell_type": "code",
   "execution_count": null,
   "metadata": {},
   "outputs": [],
   "source": []
  }
 ],
 "metadata": {
  "kernelspec": {
   "display_name": "Python 3",
   "language": "python",
   "name": "python3"
  },
  "language_info": {
   "codemirror_mode": {
    "name": "ipython",
    "version": 3
   },
   "file_extension": ".py",
   "mimetype": "text/x-python",
   "name": "python",
   "nbconvert_exporter": "python",
   "pygments_lexer": "ipython3",
   "version": "3.7.2"
  }
 },
 "nbformat": 4,
 "nbformat_minor": 2
}
