{
 "cells": [
  {
   "cell_type": "code",
   "execution_count": 1,
   "metadata": {},
   "outputs": [],
   "source": [
    "from csv import reader\n",
    "import numpy as np\n",
    "from unidecode import unidecode\n",
    "import pandas as pd\n",
    "import statsmodels.api as sm\n",
    "import scipy as ss\n",
    "from sklearn import preprocessing"
   ]
  },
  {
   "cell_type": "code",
   "execution_count": 2,
   "metadata": {},
   "outputs": [
    {
     "data": {
      "text/html": [
       "        <script type=\"text/javascript\">\n",
       "        window.PlotlyConfig = {MathJaxConfig: 'local'};\n",
       "        if (window.MathJax) {MathJax.Hub.Config({SVG: {font: \"STIX-Web\"}});}\n",
       "        if (typeof require !== 'undefined') {\n",
       "        require.undef(\"plotly\");\n",
       "        requirejs.config({\n",
       "            paths: {\n",
       "                'plotly': ['https://cdn.plot.ly/plotly-latest.min']\n",
       "            }\n",
       "        });\n",
       "        require(['plotly'], function(Plotly) {\n",
       "            window._Plotly = Plotly;\n",
       "        });\n",
       "        }\n",
       "        </script>\n",
       "        "
      ]
     },
     "metadata": {},
     "output_type": "display_data"
    },
    {
     "name": "stdout",
     "output_type": "stream",
     "text": [
      "Baixando arquivos\n",
      "Requests finalizadas\n",
      "---------------------\n",
      "limpa_deputados\n",
      "limpa_todas_votacoes\n",
      "limpa_todas_votacoesVotos\n",
      "limpa_todas_proposicoesAutores\n",
      "limpa_frentes\n",
      "Limpeza completa\n",
      "---------------------\n",
      "Legislatura\n",
      "---------------------\n",
      "Build finalizado\n",
      "---------------------\n",
      "Reciprocity 2003-2006: 0.0687593423019432\n",
      "Reciprocity 2007-2010: 0.1300106309799262\n",
      "Reciprocity 2011-2014: 0.0928473672837283\n",
      "Reciprocity 2015-2018: 0.08808553971486761\n",
      "Gml para rede\n",
      "---------------------\n",
      "Frentes\n",
      "---------------------\n"
     ]
    }
   ],
   "source": [
    "from limpeza import main as limpa\n",
    "from cria_legislatura import main as legislatura\n",
    "from build import main as build # rede 1 - Direcionada, ligação votos de Dep em Dep\n",
    "#from build_gml import main as build # rede 2 - Não direcionada, ligação correlação entre todos os votos de dois Deps\n",
    "from gml_para_rede import main as rede\n",
    "from conta_frentes import main as frentes\n",
    "from request_data import main as requests\n",
    "\n",
    "# roda só uma vez\n",
    "requests()\n",
    "limpa()\n",
    "legislatura()\n",
    "\n",
    "# roda se mudar o tipo de rede\n",
    "build()\n",
    "rede()\n",
    "frentes()"
   ]
  },
  {
   "cell_type": "code",
   "execution_count": 3,
   "metadata": {},
   "outputs": [],
   "source": [
    "qtd_leg = 4\n",
    "arquivos = {\n",
    "    'deputados': [\n",
    "        'deputados-2003-2006.csv',\n",
    "        'deputados-2007-2010.csv',\n",
    "        'deputados-2011-2014.csv',\n",
    "        'deputados-2015-2018.csv'\n",
    "    ]\n",
    "}\n",
    "\n",
    "path = 'ArquivosLimpos/'"
   ]
  },
  {
   "cell_type": "code",
   "execution_count": 4,
   "metadata": {},
   "outputs": [
    {
     "name": "stdout",
     "output_type": "stream",
     "text": [
      "Ttest_indResult(statistic=-1.707352726164056, pvalue=0.08826957150422649)\n",
      "Ttest_indResult(statistic=0.1035076852377368, pvalue=0.9175945223520245)\n",
      "Ttest_indResult(statistic=-0.7644015445153696, pvalue=0.4449092854910959)\n",
      "Ttest_indResult(statistic=0.7644941603797848, pvalue=0.44487039484630153)\n"
     ]
    }
   ],
   "source": [
    "for e in range(qtd_leg):\n",
    "    deputados = pd.read_csv(path + arquivos['deputados'][e]).dropna()\n",
    "    H = deputados.query('siglaSexo == \"M\"')['eigenvecto_centrality']\n",
    "    M = deputados.query('siglaSexo == \"F\"')['eigenvecto_centrality']\n",
    "    res = ss.stats.ttest_ind(M,H, equal_var=True)\n",
    "    print(res)"
   ]
  },
  {
   "cell_type": "markdown",
   "metadata": {},
   "source": [
    "## 2003 - 2006"
   ]
  },
  {
   "cell_type": "markdown",
   "metadata": {},
   "source": [
    "#### Carrega o Database"
   ]
  },
  {
   "cell_type": "code",
   "execution_count": 49,
   "metadata": {},
   "outputs": [],
   "source": [
    "deputados = pd.read_csv(path + arquivos['deputados'][0]).dropna()"
   ]
  },
  {
   "cell_type": "markdown",
   "metadata": {},
   "source": [
    "#### Histograma - Valores de Eigenvector centrality (Homens)"
   ]
  },
  {
   "cell_type": "code",
   "execution_count": 50,
   "metadata": {
    "scrolled": false
   },
   "outputs": [
    {
     "data": {
      "image/png": "[encoded data removed]",
      "text/plain": [
       "<Figure size 432x288 with 1 Axes>"
      ]
     },
     "metadata": {
      "needs_background": "light"
     },
     "output_type": "display_data"
    }
   ],
   "source": [
    "graf_M = deputados['eigenvecto_centrality'][deputados['siglaSexo'] == 'M'].hist(density=1)"
   ]
  },
  {
   "cell_type": "markdown",
   "metadata": {},
   "source": [
    "#### Histograma - Valores de Eigenvector centrality (Mulheres)"
   ]
  },
  {
   "cell_type": "code",
   "execution_count": 51,
   "metadata": {
    "scrolled": true
   },
   "outputs": [
    {
     "data": {
      "image/png": "[encoded data removed]",
      "text/plain": [
       "<Figure size 432x288 with 1 Axes>"
      ]
     },
     "metadata": {
      "needs_background": "light"
     },
     "output_type": "display_data"
    }
   ],
   "source": [
    "graf_F = deputados['eigenvecto_centrality'][deputados['siglaSexo'] == 'F'].hist(density=1)"
   ]
  },
  {
   "cell_type": "markdown",
   "metadata": {},
   "source": [
    "#### P-value"
   ]
  },
  {
   "cell_type": "code",
   "execution_count": 52,
   "metadata": {},
   "outputs": [
    {
     "data": {
      "text/plain": [
       "Ttest_indResult(statistic=-1.707352726164056, pvalue=0.08826957150422649)"
      ]
     },
     "execution_count": 52,
     "metadata": {},
     "output_type": "execute_result"
    }
   ],
   "source": [
    "H = deputados.query('siglaSexo == \"M\"')['eigenvecto_centrality']\n",
    "M = deputados.query('siglaSexo == \"F\"')['eigenvecto_centrality']\n",
    "res = ss.stats.ttest_ind(M,H, equal_var=True)\n",
    "res"
   ]
  },
  {
   "cell_type": "markdown",
   "metadata": {},
   "source": [
    "#### Histograma - Valores de Eigenvector centrality > 0.01 (Homens)"
   ]
  },
  {
   "cell_type": "code",
   "execution_count": 53,
   "metadata": {},
   "outputs": [
    {
     "data": {
      "image/png": "[encoded data removed]",
      "text/plain": [
       "<Figure size 432x288 with 1 Axes>"
      ]
     },
     "metadata": {
      "needs_background": "light"
     },
     "output_type": "display_data"
    }
   ],
   "source": [
    "graf_M = deputados['eigenvecto_centrality'][(deputados['siglaSexo'] == 'M') & (deputados['eigenvecto_centrality'] > 0.01)].hist(density=1)"
   ]
  },
  {
   "cell_type": "markdown",
   "metadata": {},
   "source": [
    "#### Histograma - Valores de Eigenvector centrality > 0.01 (Mulheres)"
   ]
  },
  {
   "cell_type": "code",
   "execution_count": 54,
   "metadata": {},
   "outputs": [
    {
     "data": {
      "image/png": "[encoded data removed]",
      "text/plain": [
       "<Figure size 432x288 with 1 Axes>"
      ]
     },
     "metadata": {
      "needs_background": "light"
     },
     "output_type": "display_data"
    }
   ],
   "source": [
    "graf_M = deputados['eigenvecto_centrality'][(deputados['siglaSexo'] == 'F') & (deputados['eigenvecto_centrality'] > 0.01)].hist(density=1)"
   ]
  },
  {
   "cell_type": "markdown",
   "metadata": {},
   "source": [
    "#### P-value "
   ]
  },
  {
   "cell_type": "code",
   "execution_count": 55,
   "metadata": {
    "scrolled": true
   },
   "outputs": [
    {
     "data": {
      "text/plain": [
       "Ttest_indResult(statistic=-2.295773321710483, pvalue=0.024777937342265844)"
      ]
     },
     "execution_count": 55,
     "metadata": {},
     "output_type": "execute_result"
    }
   ],
   "source": [
    "H = deputados[deputados['eigenvecto_centrality'] > 0.01].query('siglaSexo == \"M\"')['eigenvecto_centrality']\n",
    "M = deputados[deputados['eigenvecto_centrality'] > 0.01].query('siglaSexo == \"F\"')['eigenvecto_centrality']\n",
    "res = ss.stats.ttest_ind(M,H, equal_var=True)\n",
    "res"
   ]
  },
  {
   "cell_type": "markdown",
   "metadata": {},
   "source": [
    "## 2007 - 2010"
   ]
  },
  {
   "cell_type": "markdown",
   "metadata": {},
   "source": [
    "#### Carrega o Database"
   ]
  },
  {
   "cell_type": "code",
   "execution_count": 56,
   "metadata": {},
   "outputs": [],
   "source": [
    "deputados = pd.read_csv(path + arquivos['deputados'][1]).dropna()"
   ]
  },
  {
   "cell_type": "markdown",
   "metadata": {},
   "source": [
    "#### Histograma - Valores de Eigenvector centrality (Homens)"
   ]
  },
  {
   "cell_type": "code",
   "execution_count": 57,
   "metadata": {
    "scrolled": false
   },
   "outputs": [
    {
     "data": {
      "image/png": "[encoded data removed]",
      "text/plain": [
       "<Figure size 432x288 with 1 Axes>"
      ]
     },
     "metadata": {
      "needs_background": "light"
     },
     "output_type": "display_data"
    }
   ],
   "source": [
    "graf_M = deputados['eigenvecto_centrality'][deputados['siglaSexo'] == 'M'].hist(density=1)"
   ]
  },
  {
   "cell_type": "markdown",
   "metadata": {},
   "source": [
    "#### Histograma - Valores de Eigenvector centrality (Mulheres)"
   ]
  },
  {
   "cell_type": "code",
   "execution_count": 58,
   "metadata": {
    "scrolled": true
   },
   "outputs": [
    {
     "data": {
      "image/png": "[encoded data removed]",
      "text/plain": [
       "<Figure size 432x288 with 1 Axes>"
      ]
     },
     "metadata": {
      "needs_background": "light"
     },
     "output_type": "display_data"
    }
   ],
   "source": [
    "graf_F = deputados['eigenvecto_centrality'][deputados['siglaSexo'] == 'F'].hist(density=1)"
   ]
  },
  {
   "cell_type": "markdown",
   "metadata": {},
   "source": [
    "#### P-value"
   ]
  },
  {
   "cell_type": "code",
   "execution_count": 59,
   "metadata": {},
   "outputs": [
    {
     "data": {
      "text/plain": [
       "Ttest_indResult(statistic=0.1035076852377368, pvalue=0.9175945223520245)"
      ]
     },
     "execution_count": 59,
     "metadata": {},
     "output_type": "execute_result"
    }
   ],
   "source": [
    "H = deputados.query('siglaSexo == \"M\"')['eigenvecto_centrality']\n",
    "M = deputados.query('siglaSexo == \"F\"')['eigenvecto_centrality']\n",
    "res = ss.stats.ttest_ind(M,H, equal_var=True)\n",
    "res"
   ]
  },
  {
   "cell_type": "markdown",
   "metadata": {},
   "source": [
    "#### Histograma - Valores de Eigenvector centrality > 0.01 (Homens)"
   ]
  },
  {
   "cell_type": "code",
   "execution_count": 60,
   "metadata": {},
   "outputs": [
    {
     "data": {
      "image/png": "[encoded data removed]",
      "text/plain": [
       "<Figure size 432x288 with 1 Axes>"
      ]
     },
     "metadata": {
      "needs_background": "light"
     },
     "output_type": "display_data"
    }
   ],
   "source": [
    "graf_M = deputados['eigenvecto_centrality'][(deputados['siglaSexo'] == 'M') & (deputados['eigenvecto_centrality'] > 0.01)].hist(density=1)"
   ]
  },
  {
   "cell_type": "markdown",
   "metadata": {},
   "source": [
    "#### Histograma - Valores de Eigenvector centrality > 0.01 (Mulheres)"
   ]
  },
  {
   "cell_type": "code",
   "execution_count": 61,
   "metadata": {},
   "outputs": [
    {
     "data": {
      "image/png": "[encoded data removed]",
      "text/plain": [
       "<Figure size 432x288 with 1 Axes>"
      ]
     },
     "metadata": {
      "needs_background": "light"
     },
     "output_type": "display_data"
    }
   ],
   "source": [
    "graf_M = deputados['eigenvecto_centrality'][(deputados['siglaSexo'] == 'F') & (deputados['eigenvecto_centrality'] > 0.01)].hist(density=1)"
   ]
  },
  {
   "cell_type": "markdown",
   "metadata": {},
   "source": [
    "#### P-value "
   ]
  },
  {
   "cell_type": "code",
   "execution_count": 62,
   "metadata": {
    "scrolled": true
   },
   "outputs": [
    {
     "data": {
      "text/plain": [
       "Ttest_indResult(statistic=-0.34163270302688037, pvalue=0.7333233333134384)"
      ]
     },
     "execution_count": 62,
     "metadata": {},
     "output_type": "execute_result"
    }
   ],
   "source": [
    "H = deputados[deputados['eigenvecto_centrality'] > 0.01].query('siglaSexo == \"M\"')['eigenvecto_centrality']\n",
    "M = deputados[deputados['eigenvecto_centrality'] > 0.01].query('siglaSexo == \"F\"')['eigenvecto_centrality']\n",
    "res = ss.stats.ttest_ind(M,H, equal_var=True)\n",
    "res"
   ]
  },
  {
   "cell_type": "markdown",
   "metadata": {},
   "source": [
    "## 2011 - 2014"
   ]
  },
  {
   "cell_type": "markdown",
   "metadata": {},
   "source": [
    "#### Carrega o Database"
   ]
  },
  {
   "cell_type": "code",
   "execution_count": 63,
   "metadata": {},
   "outputs": [],
   "source": [
    "deputados = pd.read_csv(path + arquivos['deputados'][2]).dropna()"
   ]
  },
  {
   "cell_type": "markdown",
   "metadata": {},
   "source": [
    "#### Histograma - Valores de Eigenvector centrality (Homens)"
   ]
  },
  {
   "cell_type": "code",
   "execution_count": 64,
   "metadata": {
    "scrolled": false
   },
   "outputs": [
    {
     "data": {
      "image/png": "[encoded data removed]",
      "text/plain": [
       "<Figure size 432x288 with 1 Axes>"
      ]
     },
     "metadata": {
      "needs_background": "light"
     },
     "output_type": "display_data"
    }
   ],
   "source": [
    "graf_M = deputados['eigenvecto_centrality'][deputados['siglaSexo'] == 'M'].hist(density=1)"
   ]
  },
  {
   "cell_type": "markdown",
   "metadata": {},
   "source": [
    "#### Histograma - Valores de Eigenvector centrality (Mulheres)"
   ]
  },
  {
   "cell_type": "code",
   "execution_count": 65,
   "metadata": {
    "scrolled": true
   },
   "outputs": [
    {
     "data": {
      "image/png": "[encoded data removed]",
      "text/plain": [
       "<Figure size 432x288 with 1 Axes>"
      ]
     },
     "metadata": {
      "needs_background": "light"
     },
     "output_type": "display_data"
    }
   ],
   "source": [
    "graf_F = deputados['eigenvecto_centrality'][deputados['siglaSexo'] == 'F'].hist(density=1)"
   ]
  },
  {
   "cell_type": "markdown",
   "metadata": {},
   "source": [
    "#### P-value"
   ]
  },
  {
   "cell_type": "code",
   "execution_count": 66,
   "metadata": {},
   "outputs": [
    {
     "data": {
      "text/plain": [
       "Ttest_indResult(statistic=-0.7644015445153696, pvalue=0.4449092854910959)"
      ]
     },
     "execution_count": 66,
     "metadata": {},
     "output_type": "execute_result"
    }
   ],
   "source": [
    "H = deputados.query('siglaSexo == \"M\"')['eigenvecto_centrality']\n",
    "M = deputados.query('siglaSexo == \"F\"')['eigenvecto_centrality']\n",
    "res = ss.stats.ttest_ind(M,H, equal_var=True)\n",
    "res"
   ]
  },
  {
   "cell_type": "markdown",
   "metadata": {},
   "source": [
    "#### Histograma - Valores de Eigenvector centrality > 0.01 (Homens)"
   ]
  },
  {
   "cell_type": "code",
   "execution_count": 67,
   "metadata": {},
   "outputs": [
    {
     "data": {
      "image/png": "[encoded data removed]",
      "text/plain": [
       "<Figure size 432x288 with 1 Axes>"
      ]
     },
     "metadata": {
      "needs_background": "light"
     },
     "output_type": "display_data"
    }
   ],
   "source": [
    "graf_M = deputados['eigenvecto_centrality'][(deputados['siglaSexo'] == 'M') & (deputados['eigenvecto_centrality'] > 0.01)].hist(density=1)"
   ]
  },
  {
   "cell_type": "markdown",
   "metadata": {},
   "source": [
    "#### Histograma - Valores de Eigenvector centrality > 0.01 (Mulheres)"
   ]
  },
  {
   "cell_type": "code",
   "execution_count": 68,
   "metadata": {},
   "outputs": [
    {
     "data": {
      "image/png": "[encoded data removed]",
      "text/plain": [
       "<Figure size 432x288 with 1 Axes>"
      ]
     },
     "metadata": {
      "needs_background": "light"
     },
     "output_type": "display_data"
    }
   ],
   "source": [
    "graf_M = deputados['eigenvecto_centrality'][(deputados['siglaSexo'] == 'F') & (deputados['eigenvecto_centrality'] > 0.01)].hist(density=1)"
   ]
  },
  {
   "cell_type": "markdown",
   "metadata": {},
   "source": [
    "#### P-value "
   ]
  },
  {
   "cell_type": "code",
   "execution_count": 69,
   "metadata": {
    "scrolled": true
   },
   "outputs": [
    {
     "data": {
      "text/plain": [
       "Ttest_indResult(statistic=0.9947769778791515, pvalue=0.32273606712554537)"
      ]
     },
     "execution_count": 69,
     "metadata": {},
     "output_type": "execute_result"
    }
   ],
   "source": [
    "H = deputados[deputados['eigenvecto_centrality'] > 0.01].query('siglaSexo == \"M\"')['eigenvecto_centrality']\n",
    "M = deputados[deputados['eigenvecto_centrality'] > 0.01].query('siglaSexo == \"F\"')['eigenvecto_centrality']\n",
    "res = ss.stats.ttest_ind(M,H, equal_var=True)\n",
    "res"
   ]
  },
  {
   "cell_type": "markdown",
   "metadata": {},
   "source": [
    "## 2015 - 2018"
   ]
  },
  {
   "cell_type": "markdown",
   "metadata": {},
   "source": [
    "#### Carrega o Database"
   ]
  },
  {
   "cell_type": "code",
   "execution_count": 70,
   "metadata": {},
   "outputs": [],
   "source": [
    "deputados = pd.read_csv(path + arquivos['deputados'][3]).dropna()"
   ]
  },
  {
   "cell_type": "markdown",
   "metadata": {},
   "source": [
    "#### Histograma - Valores de Eigenvector centrality (Homens)"
   ]
  },
  {
   "cell_type": "code",
   "execution_count": 71,
   "metadata": {
    "scrolled": false
   },
   "outputs": [
    {
     "data": {
      "image/png": "[encoded data removed]",
      "text/plain": [
       "<Figure size 432x288 with 1 Axes>"
      ]
     },
     "metadata": {
      "needs_background": "light"
     },
     "output_type": "display_data"
    }
   ],
   "source": [
    "graf_M = deputados['eigenvecto_centrality'][deputados['siglaSexo'] == 'M'].hist(density=1)"
   ]
  },
  {
   "cell_type": "markdown",
   "metadata": {},
   "source": [
    "#### Histograma - Valores de Eigenvector centrality (Mulheres)"
   ]
  },
  {
   "cell_type": "code",
   "execution_count": 72,
   "metadata": {
    "scrolled": true
   },
   "outputs": [
    {
     "data": {
      "image/png": "[encoded data removed]",
      "text/plain": [
       "<Figure size 432x288 with 1 Axes>"
      ]
     },
     "metadata": {
      "needs_background": "light"
     },
     "output_type": "display_data"
    }
   ],
   "source": [
    "graf_F = deputados['eigenvecto_centrality'][deputados['siglaSexo'] == 'F'].hist(density=1)"
   ]
  },
  {
   "cell_type": "markdown",
   "metadata": {},
   "source": [
    "#### P-value"
   ]
  },
  {
   "cell_type": "code",
   "execution_count": 73,
   "metadata": {},
   "outputs": [
    {
     "data": {
      "text/plain": [
       "Ttest_indResult(statistic=0.7644941603797848, pvalue=0.44487039484630153)"
      ]
     },
     "execution_count": 73,
     "metadata": {},
     "output_type": "execute_result"
    }
   ],
   "source": [
    "H = deputados.query('siglaSexo == \"M\"')['eigenvecto_centrality']\n",
    "M = deputados.query('siglaSexo == \"F\"')['eigenvecto_centrality']\n",
    "res = ss.stats.ttest_ind(M,H, equal_var=True)\n",
    "res"
   ]
  },
  {
   "cell_type": "markdown",
   "metadata": {},
   "source": [
    "#### Histograma - Valores de Eigenvector centrality > 0.01 (Homens)"
   ]
  },
  {
   "cell_type": "code",
   "execution_count": 74,
   "metadata": {},
   "outputs": [
    {
     "data": {
      "image/png": "[encoded data removed]",
      "text/plain": [
       "<Figure size 432x288 with 1 Axes>"
      ]
     },
     "metadata": {
      "needs_background": "light"
     },
     "output_type": "display_data"
    }
   ],
   "source": [
    "graf_M = deputados['eigenvecto_centrality'][(deputados['siglaSexo'] == 'M') & (deputados['eigenvecto_centrality'] > 0.01)].hist(density=1)"
   ]
  },
  {
   "cell_type": "markdown",
   "metadata": {},
   "source": [
    "#### Histograma - Valores de Eigenvector centrality > 0.01 (Mulheres)"
   ]
  },
  {
   "cell_type": "code",
   "execution_count": 75,
   "metadata": {},
   "outputs": [
    {
     "data": {
      "image/png": "[encoded data removed]",
      "text/plain": [
       "<Figure size 432x288 with 1 Axes>"
      ]
     },
     "metadata": {
      "needs_background": "light"
     },
     "output_type": "display_data"
    }
   ],
   "source": [
    "graf_M = deputados['eigenvecto_centrality'][(deputados['siglaSexo'] == 'F') & (deputados['eigenvecto_centrality'] > 0.01)].hist(density=1)"
   ]
  },
  {
   "cell_type": "markdown",
   "metadata": {},
   "source": [
    "#### P-value "
   ]
  },
  {
   "cell_type": "code",
   "execution_count": 76,
   "metadata": {
    "scrolled": true
   },
   "outputs": [
    {
     "data": {
      "text/plain": [
       "Ttest_indResult(statistic=0.11780173870907915, pvalue=0.9065059820921764)"
      ]
     },
     "execution_count": 76,
     "metadata": {},
     "output_type": "execute_result"
    }
   ],
   "source": [
    "H = deputados[deputados['eigenvecto_centrality'] > 0.01].query('siglaSexo == \"M\"')['eigenvecto_centrality']\n",
    "M = deputados[deputados['eigenvecto_centrality'] > 0.01].query('siglaSexo == \"F\"')['eigenvecto_centrality']\n",
    "res = ss.stats.ttest_ind(M,H, equal_var=True)\n",
    "res"
   ]
  },
  {
   "cell_type": "code",
   "execution_count": null,
   "metadata": {},
   "outputs": [],
   "source": []
  }
 ],
 "metadata": {
  "kernelspec": {
   "display_name": "Python 3",
   "language": "python",
   "name": "python3"
  },
  "language_info": {
   "codemirror_mode": {
    "name": "ipython",
    "version": 3
   },
   "file_extension": ".py",
   "mimetype": "text/x-python",
   "name": "python",
   "nbconvert_exporter": "python",
   "pygments_lexer": "ipython3",
   "version": "3.6.4"
  }
 },
 "nbformat": 4,
 "nbformat_minor": 2
}
